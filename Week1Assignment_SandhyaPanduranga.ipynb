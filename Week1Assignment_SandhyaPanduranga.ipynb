{
 "cells": [
  {
   "cell_type": "code",
   "execution_count": 1,
   "metadata": {},
   "outputs": [
    {
     "name": "stdout",
     "output_type": "stream",
     "text": [
      "arr18num:[[ 0  1  2]\n",
      " [ 3  4  5]\n",
      " [ 6  7  8]\n",
      " [ 9 10 11]\n",
      " [12 13 14]\n",
      " [15 16 17]]\n"
     ]
    }
   ],
   "source": [
    "##Q1. Create an array having consecutive natural numbers of size 6x3 and print it\n",
    "import numpy as np\n",
    "arr18num = np.arange(18).reshape(6, 3)\n",
    "print(\"arr18num:{}\".format(arr18num))"
   ]
  },
  {
   "cell_type": "code",
   "execution_count": 2,
   "metadata": {},
   "outputs": [
    {
     "name": "stdout",
     "output_type": "stream",
     "text": [
      "  Initials  Salary      StateName  YearsOld Gender  Siblings\n",
      "0        A      50     Tamil Nadu        23      M         0\n",
      "1        B      34      Karnataka        37      F         3\n",
      "2        C      54     Tamil Nadu        35      F         1\n",
      "3        D      24  Uttar Pradesh        26      F         4\n",
      "4        E      19          Bihar        59      M         5\n",
      "5        F      21          Bihar        48      M         6\n",
      "6        G      40          Delhi        30      F         2\n",
      "7        H      20  Uttar Pradesh        72      M        10\n",
      "8        I      30      Telangana        22      F         0\n",
      "9        J      18    Chattisgarh        42      M         7\n"
     ]
    }
   ],
   "source": [
    "#Q2: Rename all the columns in the dataset as per your wish and save it in another dataframe and name it df2\n",
    "\n",
    "import pandas as pd\n",
    "df1 = pd.read_excel(\"Week 1 Dataset.xlsx\")\n",
    "##print (df1)\n",
    "df2=df1.rename(columns={\"Name\":\"Initials\",\"Income per month\":\"Salary\", \"State\":\"StateName\",\"Age\":\"YearsOld\",\"Sex\":\"Gender\",\"Number of siblings\":\"Siblings\"})\n",
    "print (df2)"
   ]
  },
  {
   "cell_type": "code",
   "execution_count": 3,
   "metadata": {},
   "outputs": [
    {
     "name": "stdout",
     "output_type": "stream",
     "text": [
      "  Initials  Salary      StateName  YearsOld Gender  Siblings\n",
      "0        A      50     Tamil Nadu        23      M         0\n",
      "1        B      34      Karnataka        37      F         3\n",
      "2        C      54     Tamil Nadu        35      F         1\n",
      "3        D      24  Uttar Pradesh        26      F         4\n",
      "4        E      19          Bihar        59      M         5\n",
      "5        F      21          Bihar        48      M         6\n",
      "6        G      40          Delhi        30      F         2\n",
      "7        H      20  Uttar Pradesh        72      M        10\n",
      "8        I      30      Telangana        22      F         0\n",
      "9        J      18    Chattisgarh        42      M         7\n"
     ]
    }
   ],
   "source": [
    "#Q3: After you have created df2, make the same changes in the original dataframe using the inplace\n",
    "df1.rename(columns={\"Name\":\"Initials\",\"Income per month\":\"Salary\", \"State\":\"StateName\",\"Age\":\"YearsOld\",\"Sex\":\"Gender\",\"Number of siblings\":\"Siblings\"},inplace=True)\n",
    "print(df1)\n"
   ]
  },
  {
   "cell_type": "code",
   "execution_count": 4,
   "metadata": {},
   "outputs": [
    {
     "data": {
      "text/html": [
       "<div>\n",
       "<style scoped>\n",
       "    .dataframe tbody tr th:only-of-type {\n",
       "        vertical-align: middle;\n",
       "    }\n",
       "\n",
       "    .dataframe tbody tr th {\n",
       "        vertical-align: top;\n",
       "    }\n",
       "\n",
       "    .dataframe thead th {\n",
       "        text-align: right;\n",
       "    }\n",
       "</style>\n",
       "<table border=\"1\" class=\"dataframe\">\n",
       "  <thead>\n",
       "    <tr style=\"text-align: right;\">\n",
       "      <th></th>\n",
       "      <th>Gender</th>\n",
       "      <th>Siblings</th>\n",
       "    </tr>\n",
       "  </thead>\n",
       "  <tbody>\n",
       "    <tr>\n",
       "      <td>0</td>\n",
       "      <td>M</td>\n",
       "      <td>0</td>\n",
       "    </tr>\n",
       "    <tr>\n",
       "      <td>1</td>\n",
       "      <td>F</td>\n",
       "      <td>3</td>\n",
       "    </tr>\n",
       "    <tr>\n",
       "      <td>2</td>\n",
       "      <td>F</td>\n",
       "      <td>1</td>\n",
       "    </tr>\n",
       "    <tr>\n",
       "      <td>3</td>\n",
       "      <td>F</td>\n",
       "      <td>4</td>\n",
       "    </tr>\n",
       "    <tr>\n",
       "      <td>4</td>\n",
       "      <td>M</td>\n",
       "      <td>5</td>\n",
       "    </tr>\n",
       "    <tr>\n",
       "      <td>5</td>\n",
       "      <td>M</td>\n",
       "      <td>6</td>\n",
       "    </tr>\n",
       "    <tr>\n",
       "      <td>6</td>\n",
       "      <td>F</td>\n",
       "      <td>2</td>\n",
       "    </tr>\n",
       "    <tr>\n",
       "      <td>7</td>\n",
       "      <td>M</td>\n",
       "      <td>10</td>\n",
       "    </tr>\n",
       "    <tr>\n",
       "      <td>8</td>\n",
       "      <td>F</td>\n",
       "      <td>0</td>\n",
       "    </tr>\n",
       "    <tr>\n",
       "      <td>9</td>\n",
       "      <td>M</td>\n",
       "      <td>7</td>\n",
       "    </tr>\n",
       "  </tbody>\n",
       "</table>\n",
       "</div>"
      ],
      "text/plain": [
       "  Gender  Siblings\n",
       "0      M         0\n",
       "1      F         3\n",
       "2      F         1\n",
       "3      F         4\n",
       "4      M         5\n",
       "5      M         6\n",
       "6      F         2\n",
       "7      M        10\n",
       "8      F         0\n",
       "9      M         7"
      ]
     },
     "execution_count": 4,
     "metadata": {},
     "output_type": "execute_result"
    }
   ],
   "source": [
    "#Q4: Show only the columns information, sex and number of siblings\n",
    "SelectedColumns = df1.iloc[:,4:6]\n",
    "SelectedColumns"
   ]
  },
  {
   "cell_type": "code",
   "execution_count": 5,
   "metadata": {},
   "outputs": [
    {
     "data": {
      "text/html": [
       "<div>\n",
       "<style scoped>\n",
       "    .dataframe tbody tr th:only-of-type {\n",
       "        vertical-align: middle;\n",
       "    }\n",
       "\n",
       "    .dataframe tbody tr th {\n",
       "        vertical-align: top;\n",
       "    }\n",
       "\n",
       "    .dataframe thead th {\n",
       "        text-align: right;\n",
       "    }\n",
       "</style>\n",
       "<table border=\"1\" class=\"dataframe\">\n",
       "  <thead>\n",
       "    <tr style=\"text-align: right;\">\n",
       "      <th></th>\n",
       "      <th>Initials</th>\n",
       "      <th>Salary</th>\n",
       "      <th>StateName</th>\n",
       "      <th>YearsOld</th>\n",
       "    </tr>\n",
       "  </thead>\n",
       "  <tbody>\n",
       "    <tr>\n",
       "      <td>3</td>\n",
       "      <td>D</td>\n",
       "      <td>24</td>\n",
       "      <td>Uttar Pradesh</td>\n",
       "      <td>26</td>\n",
       "    </tr>\n",
       "    <tr>\n",
       "      <td>4</td>\n",
       "      <td>E</td>\n",
       "      <td>19</td>\n",
       "      <td>Bihar</td>\n",
       "      <td>59</td>\n",
       "    </tr>\n",
       "    <tr>\n",
       "      <td>5</td>\n",
       "      <td>F</td>\n",
       "      <td>21</td>\n",
       "      <td>Bihar</td>\n",
       "      <td>48</td>\n",
       "    </tr>\n",
       "    <tr>\n",
       "      <td>6</td>\n",
       "      <td>G</td>\n",
       "      <td>40</td>\n",
       "      <td>Delhi</td>\n",
       "      <td>30</td>\n",
       "    </tr>\n",
       "    <tr>\n",
       "      <td>7</td>\n",
       "      <td>H</td>\n",
       "      <td>20</td>\n",
       "      <td>Uttar Pradesh</td>\n",
       "      <td>72</td>\n",
       "    </tr>\n",
       "    <tr>\n",
       "      <td>8</td>\n",
       "      <td>I</td>\n",
       "      <td>30</td>\n",
       "      <td>Telangana</td>\n",
       "      <td>22</td>\n",
       "    </tr>\n",
       "    <tr>\n",
       "      <td>9</td>\n",
       "      <td>J</td>\n",
       "      <td>18</td>\n",
       "      <td>Chattisgarh</td>\n",
       "      <td>42</td>\n",
       "    </tr>\n",
       "  </tbody>\n",
       "</table>\n",
       "</div>"
      ],
      "text/plain": [
       "  Initials  Salary      StateName  YearsOld\n",
       "3        D      24  Uttar Pradesh        26\n",
       "4        E      19          Bihar        59\n",
       "5        F      21          Bihar        48\n",
       "6        G      40          Delhi        30\n",
       "7        H      20  Uttar Pradesh        72\n",
       "8        I      30      Telangana        22\n",
       "9        J      18    Chattisgarh        42"
      ]
     },
     "execution_count": 5,
     "metadata": {},
     "output_type": "execute_result"
    }
   ],
   "source": [
    "#Q5: Use iloc method to print data from column 1 to 4 and rows 3 to 9\n",
    "SelectedData = df1.iloc[3:10,0:4]\n",
    "SelectedData"
   ]
  },
  {
   "cell_type": "code",
   "execution_count": 6,
   "metadata": {},
   "outputs": [
    {
     "data": {
      "text/plain": [
       "0     2\n",
       "10    1\n",
       "7     1\n",
       "6     1\n",
       "5     1\n",
       "4     1\n",
       "3     1\n",
       "2     1\n",
       "1     1\n",
       "Name: Siblings, dtype: int64"
      ]
     },
     "execution_count": 6,
     "metadata": {},
     "output_type": "execute_result"
    }
   ],
   "source": [
    "#Q6: Find the total value count of number of siblings in the given dataset\n",
    "df2[\"Siblings\"].value_counts()"
   ]
  },
  {
   "cell_type": "code",
   "execution_count": 7,
   "metadata": {},
   "outputs": [
    {
     "name": "stdout",
     "output_type": "stream",
     "text": [
      "[['A' 50 'Tamil Nadu' 23 'M']\n",
      " ['B' 34 'Karnataka' 37 'F']\n",
      " ['C' 54 'Tamil Nadu' 35 'F']\n",
      " ['D' 24 'Uttar Pradesh' 26 'F']\n",
      " ['E' 19 'Bihar' 59 'M']\n",
      " ['F' 21 'Bihar' 48 'M']\n",
      " ['G' 40 'Delhi' 30 'F']\n",
      " ['H' 20 'Uttar Pradesh' 72 'M']\n",
      " ['I' 30 'Telangana' 22 'F']\n",
      " ['J' 18 'Chattisgarh' 42 'M']]\n",
      "[ 0  3  1  4  5  6  2 10  0  7]\n"
     ]
    }
   ],
   "source": [
    "#Q7: What are dependant and independent varibles in our dataset? \n",
    "#Not very clear but I assume the following\n",
    "#Independent variables X are Name, Income per month, State_name, Age, Sex and \n",
    "#Dependant varialbe Y is Number of siblings\n",
    "X = df1.iloc[:,:-1].values\n",
    "y = df1.iloc[:, -1].values\n",
    "print(X)\n",
    "print(y)"
   ]
  },
  {
   "cell_type": "code",
   "execution_count": 8,
   "metadata": {},
   "outputs": [],
   "source": [
    "#Q8: Mention all your finding from the above given heatmap.\n",
    "#Finding 1 - Income per month and Number of siblings are negatively correlated. As income per month increases, the number of siblings decreases\n",
    "#Finding 2 - Age and Number of siblings are positively highly correlated. People who are older have more silings than younger ones."
   ]
  }
 ],
 "metadata": {
  "kernelspec": {
   "display_name": "Python 3",
   "language": "python",
   "name": "python3"
  },
  "language_info": {
   "codemirror_mode": {
    "name": "ipython",
    "version": 3
   },
   "file_extension": ".py",
   "mimetype": "text/x-python",
   "name": "python",
   "nbconvert_exporter": "python",
   "pygments_lexer": "ipython3",
   "version": "3.7.4"
  }
 },
 "nbformat": 4,
 "nbformat_minor": 2
}
