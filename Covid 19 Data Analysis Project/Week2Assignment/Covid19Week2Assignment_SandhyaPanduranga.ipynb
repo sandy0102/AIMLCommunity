{
 "cells": [
  {
   "cell_type": "markdown",
   "metadata": {},
   "source": [
    "# COVID 19 DATA ANALYSIS PROJECT\n",
    "\n",
    "In this project we will be analysing the COVID 19 dataset and gaining meaningful insights from the data. The tools that are being used are Python and its libraries, Frontend tools like HTML, CSS, Frontend framework flask, Git and Heroku.  We will be designing a frontend and deployment will be done on Heroku.\n",
    "\n",
    "Week 1 focuses on Scraping and cleaning the Covid 19 dataset obtained from Worldometer website https://www.worldometers.info/coronavirus.  \n",
    "\n",
    "Week 2 focuses on data analysis and visualization by performing Exploratory Data Analysis and Feature selection."
   ]
  },
  {
   "cell_type": "code",
   "execution_count": 1,
   "metadata": {},
   "outputs": [],
   "source": [
    "#import all the required libraries\n",
    "import requests\n",
    "from bs4 import BeautifulSoup\n",
    "import pandas as pd\n",
    "import numpy as np\n",
    "import seaborn as sns\n",
    "import matplotlib.pyplot as plt\n",
    "%matplotlib inline\n",
    "import warnings\n",
    "warnings.filterwarnings('ignore')"
   ]
  },
  {
   "cell_type": "code",
   "execution_count": 2,
   "metadata": {},
   "outputs": [],
   "source": [
    "url=\"https://www.worldometers.info/coronavirus/\""
   ]
  },
  {
   "cell_type": "code",
   "execution_count": 3,
   "metadata": {},
   "outputs": [
    {
     "name": "stdout",
     "output_type": "stream",
     "text": [
      "<Response [200]>\n"
     ]
    }
   ],
   "source": [
    "response=requests.get(url)\n",
    "print (response)"
   ]
  },
  {
   "cell_type": "code",
   "execution_count": 4,
   "metadata": {},
   "outputs": [],
   "source": [
    "soup=BeautifulSoup(response.content, \"html.parser\")"
   ]
  },
  {
   "cell_type": "code",
   "execution_count": 5,
   "metadata": {},
   "outputs": [
    {
     "data": {
      "text/plain": [
       "<title>Coronavirus Update (Live): 4,126,639 Cases and 280,974 Deaths from COVID-19 Virus Pandemic - Worldometer</title>"
      ]
     },
     "execution_count": 5,
     "metadata": {},
     "output_type": "execute_result"
    }
   ],
   "source": [
    "soup.title"
   ]
  },
  {
   "cell_type": "code",
   "execution_count": 6,
   "metadata": {},
   "outputs": [
    {
     "name": "stdout",
     "output_type": "stream",
     "text": [
      "\n",
      "2,392,390\n",
      "Currently Infected Patients\n",
      "\n",
      "\n",
      "2,344,817 (98%)\n",
      "in Mild Condition\n",
      "\n",
      "47,573 (2%)\n",
      "Serious or Critical\n",
      "\n",
      "\n",
      "Show Graph\n",
      "\n"
     ]
    }
   ],
   "source": [
    "divs=soup.find(\"div\", class_=\"panel_flip\")\n",
    "for i in divs.find_all(\"div\", class_=\"panel_front\"):\n",
    "    print(i.text)"
   ]
  },
  {
   "cell_type": "code",
   "execution_count": 7,
   "metadata": {},
   "outputs": [],
   "source": [
    "coronatable=soup.find_all(\"table\")   "
   ]
  },
  {
   "cell_type": "code",
   "execution_count": 8,
   "metadata": {},
   "outputs": [
    {
     "data": {
      "text/plain": [
       "2"
      ]
     },
     "execution_count": 8,
     "metadata": {},
     "output_type": "execute_result"
    }
   ],
   "source": [
    "len(coronatable)"
   ]
  },
  {
   "cell_type": "code",
   "execution_count": 9,
   "metadata": {},
   "outputs": [],
   "source": [
    "co=coronatable[0]"
   ]
  },
  {
   "cell_type": "markdown",
   "metadata": {},
   "source": [
    "# WORLD DATA"
   ]
  },
  {
   "cell_type": "code",
   "execution_count": 10,
   "metadata": {},
   "outputs": [
    {
     "name": "stdout",
     "output_type": "stream",
     "text": [
      "['USA', 'Spain', 'Italy', 'UK', 'Russia', 'France', 'Germany', 'Brazil', 'Turkey', 'Iran', 'Canada', 'Peru', 'India', 'Belgium', 'Netherlands', 'Saudi Arabia', 'Mexico', 'Switzerland', 'Pakistan', 'Ecuador', 'Portugal', 'Chile', 'Sweden', 'Singapore', 'Belarus', 'Ireland', 'Qatar', 'UAE', 'Israel', 'Austria', 'Poland', 'Japan', 'Romania', 'Ukraine', 'Bangladesh', 'Indonesia', 'S. Korea', 'Philippines', 'Colombia', 'Denmark', 'Serbia', 'Dominican Republic', 'South Africa', 'Egypt', 'Kuwait', 'Panama', 'Norway', 'Czechia', 'Australia', 'Malaysia', 'Morocco', 'Finland', 'Argentina', 'Algeria', 'Kazakhstan', 'Moldova', 'Bahrain', 'Afghanistan', 'Ghana', 'Nigeria', 'Luxembourg', 'Oman', 'Armenia', 'Hungary', 'Thailand', 'Greece', 'Iraq', 'Cameroon', 'Bolivia', 'Azerbaijan', 'Uzbekistan', 'Croatia', 'Bosnia and Herzegovina', 'Guinea', 'Bulgaria', 'Honduras', 'Iceland', 'Cuba', 'Estonia', 'Senegal', 'Ivory Coast', 'North Macedonia', 'New Zealand', 'Lithuania', 'Slovakia', 'Slovenia', 'Djibouti', 'Sudan', 'Hong Kong', 'Tunisia', 'Kyrgyzstan', 'Somalia', 'Mayotte', 'Guatemala', 'Latvia', 'DRC', 'Cyprus', 'El Salvador', 'Albania', 'Sri Lanka', 'Lebanon', 'Niger', 'Maldives', 'Costa Rica', 'Andorra', 'Burkina Faso', 'Diamond Princess', 'Uruguay', 'Mali', 'Paraguay', 'Gabon', 'Kenya', 'Guinea-Bissau', 'San Marino', 'Georgia', 'Tajikistan', 'Channel Islands', 'Jordan', 'Tanzania', 'Jamaica', 'Malta', 'Taiwan', 'Equatorial Guinea', 'Réunion', 'Venezuela', 'Palestine', 'Mauritius', 'Isle of Man', 'Montenegro', 'Chad', 'Benin', 'Sierra Leone', 'Vietnam', 'Rwanda', 'Congo', 'Zambia', 'Ethiopia', 'Cabo Verde', 'Sao Tome and Principe', 'Liberia', 'Madagascar', 'Faeroe Islands', 'Martinique', 'Myanmar', 'Eswatini', 'Guadeloupe', 'Togo', 'Haiti', 'Gibraltar', 'French Guiana', 'CAR', 'Brunei', 'Cambodia', 'South Sudan', 'Bermuda', 'Trinidad and Tobago', 'Uganda', 'Nepal', 'Aruba', 'Guyana', 'Monaco', 'Bahamas', 'Mozambique', 'Barbados', 'Liechtenstein', 'Cayman Islands', 'Sint Maarten', 'Libya', 'French Polynesia', 'Malawi', 'Syria', 'Macao', 'Angola', 'Mongolia', 'Saint Martin', 'Eritrea', 'Zimbabwe', 'Yemen', 'Antigua and Barbuda', 'Timor-Leste', 'Botswana', 'Grenada', 'Gambia', 'Laos', 'Belize', 'Fiji', 'New Caledonia', 'Saint Lucia', 'St. Vincent Grenadines', 'Nicaragua', 'Curaçao', 'Dominica', 'Namibia', 'Burundi', 'Saint Kitts and Nevis', 'Falkland Islands', 'Turks and Caicos', 'Vatican City', 'Comoros', 'Montserrat', 'Greenland', 'Seychelles', 'Suriname', 'MS Zaandam', 'Mauritania', 'Papua New Guinea', 'British Virgin Islands', 'Bhutan', 'Caribbean Netherlands', 'St. Barth', 'Western Sahara', 'Anguilla', 'Saint Pierre Miquelon', 'China', 'Total:', 'Total:', 'Total:', 'Total:', 'Total:', 'Total:', 'Total:']\n",
      "['1,347,411', '264,663', '218,268', '215,260', '209,688', '176,658', '171,324', '156,061', '137,115', '107,603', '67,702', '65,015', '62,939', '53,081', '42,627', '37,136', '33,460', '30,305', '29,465', '29,071', '27,406', '27,219', '26,322', '23,336', '22,973', '22,760', '22,520', '18,198', '16,458', '15,871', '15,821', '15,663', '15,362', '15,232', '14,657', '14,032', '10,874', '10,794', '10,495', '10,429', '10,032', '9,882', '9,420', '8,964', '8,688', '8,282', '8,099', '8,095', '6,941', '6,656', '6,038', '5,962', '5,776', '5,558', '5,056', '4,867', '4,856', '4,402', '4,263', '4,151', '3,877', '3,399', '3,313', '3,263', '3,009', '2,710', '2,679', '2,579', '2,437', '2,422', '2,411', '2,176', '2,117', '2,042', '1,955', '1,830', '1,801', '1,754', '1,739', '1,709', '1,667', '1,622', '1,494', '1,479', '1,457', '1,454', '1,189', '1,164', '1,048', '1,032', '1,002', '997', '988', '967', '939', '937', '892', '889', '868', '847', '845', '815', '790', '780', '754', '748', '712', '702', '692', '689', '661', '649', '641', '637', '635', '612', '545', '522', '509', '498', '496', '440', '439', '431', '402', '375', '332', '330', '324', '322', '319', '291', '288', '280', '274', '252', '239', '236', '208', '199', '193', '187', '186', '178', '163', '154', '153', '151', '146', '144', '143', '141', '122', '120', '118', '116', '116', '110', '101', '97', '96', '92', '87', '84', '82', '81', '76', '64', '60', '56', '47', '45', '43', '42', '39', '39', '36', '34', '25', '24', '23', '21', '20', '19', '18', '18', '18', '18', '17', '16', '16', '16', '16', '15', '15', '13', '12', '12', '11', '11', '11', '11', '10', '9', '8', '8', '7', '7', '6', '6', '6', '3', '1', '82,901', '1,474,872', '1,622,171', '298,131', '659,647', '62,558', '8,539', '721']\n",
      "['+102', '+1,880', '', '', '+11,012', '', '', '', '', '+1,383', '', '', '+131', '+485', '+245', '', '+1,938', '+54', '+729', '', '', '', '+401', '+876', '+921', '', '+1,189', '+781', '+4', '+38', '+170', '', '+231', '+522', '+887', '+387', '+34', '+184', '', '+110', '', '', '', '', '+1,065', '+212', '', '', '+12', '+67', '+128', '+82', '', '', '+81', '', '+82', '+369', '', '', '', '+175', '+138', '+50', '+5', '', '', '+305', '+171', '', '+62', '', '+27', '', '+34', '+59', '', '', '+6', '+75', '', '', '+2', '+35', '+2', '', '', '', '+3', '', '+71', '', '', '+67', '+9', '', '', '+105', '+12', '', '+36', '', '', '', '', '', '', '', '', '', '', '', '', '', '+9', '', '', '', '', '+8', '+6', '', '', '', '', '', '', '+1', '', '', '+35', '', '', '', '', '', '+29', '', '', '', '', '', '', '', '', '', '', '', '', '+3', '', '', '', '', '', '', '', '+1', '', '+3', '', '', '', '', '', '', '', '', '', '', '', '', '', '', '', '', '+1', '', '', '', '', '', '', '', '', '', '', '', '', '', '', '', '', '', '', '', '', '', '', '', '', '', '', '', '', '', '', '', '', '', '', '', '', '+14', '+2,491', '+16,333', '+177', '+8,763', '+573', '+14', '']\n",
      "['80,044', '26,621', '30,395', '31,587', '1,915', '26,310', '7,549', '10,656', '3,739', '6,640', '4,693', '1,814', '2,109', '8,656', '5,440', '239', '3,353', '1,830', '639', '1,717', '1,126', '304', '3,225', '20', '131', '1,446', '14', '198', '248', '618', '791', '607', '952', '391', '228', '973', '256', '719', '445', '529', '213', '385', '186', '514', '58', '237', '219', '276', '97', '108', '188', '267', '300', '494', '31', '161', '8', '120', '22', '128', '101', '17', '45', '413', '56', '151', '107', '114', '114', '31', '10', '87', '107', '11', '90', '108', '10', '74', '60', '18', '21', '91', '21', '50', '26', '101', '3', '64', '4', '45', '12', '48', '11', '24', '18', '39', '15', '17', '31', '9', '26', '45', '3', '6', '48', '48', '13', '18', '37', '10', '8', '30', '3', '41', '10', '20', '41', '9', '21', '9', '5', '6', '4', '', '10', '2', '10', '23', '9', '31', '2', '18', '', '', '10', '7', '5', '2', '5', '20', '', '', '14', '6', '2', '13', '10', '12', '', '1', '', '1', '', '', '7', '8', '', '', '3', '10', '4', '11', '', '7', '1', '1', '15', '3', '', '3', '3', '', '2', '', '3', '', '4', '7', '3', '', '1', '', '1', '', '2', '', '', '', '', '5', '1', '', '', '1', '', '', '1', '', '1', '1', '', '', '1', '2', '1', '', '1', '', '', '', '', '', '', '4,633', '89,058', '152,156', '15,400', '21,986', '2,241', '118', '15']\n",
      "['+7', '+143', '', '', '+88', '', '', '', '', '+51', '', '', '+8', '+75', '+18', '', '+193', '', '+3', '', '', '', '+5', '', '+5', '', '+1', '+13', '+1', '+3', '+6', '', '+13', '+15', '+14', '+14', '', '+15', '', '+3', '', '', '', '', '+9', '+6', '', '', '', '', '+2', '+2', '', '', '', '', '', '+5', '', '', '', '', '+1', '+8', '', '', '', '+6', '+8', '', '', '', '+5', '', '', '+1', '', '', '', '+1', '', '', '', '+1', '', '', '', '', '', '', '', '', '', '', '', '', '', '', '', '', '', '', '', '', '', '', '', '', '', '', '', '', '', '', '', '', '', '', '', '', '', '', '', '', '', '', '', '', '+1', '', '', '', '', '', '', '', '', '', '', '', '', '', '', '', '', '', '', '', '', '', '', '', '', '', '', '', '', '', '', '', '', '', '', '', '', '', '', '', '', '', '', '', '', '', '', '', '', '', '', '', '', '', '', '', '', '', '', '', '', '', '', '', '', '', '', '', '', '', '', '', '', '', '', '', '', '', '', '', '', '', '', '', '', '', '+207', '+391', '+8', '+135', '+9', '', '']\n",
      "['238,080', '176,439', '103,031', 'N/A', '34,306', '56,038', '144,400', '61,685', '89,480', '86,143', '31,249', '20,246', '19,358', '13,642', 'N/A', '10,144', '21,824', '26,400', '8,023', '3,433', '2,499', '12,667', '4,971', '2,296', '6,406', '17,110', '2,753', '4,804', '11,384', '13,991', '5,698', '5,906', '7,051', '3,060', '2,650', '2,698', '9,610', '1,924', '2,569', '8,217', '2,732', '2,584', '3,983', '2,002', '2,729', '4,501', '32', '4,448', '6,163', '5,025', '2,545', '4,000', '1,728', '2,546', '1,828', '1,925', '2,065', '558', '378', '745', '3,550', '1,117', '1,325', '933', '2,794', '1,374', '1,702', '1,465', '258', '1,620', '1,870', '1,726', '1,106', '698', '444', '195', '1,773', '1,140', '750', '650', '769', '1,112', '1,371', '828', '941', '255', '834', '119', '982', '660', '675', '110', '492', '104', '464', '130', '401', '293', '650', '321', '234', '617', '29', '480', '545', '569', '645', '513', '298', '155', '110', '207', '25', '126', '309', '', '447', '387', '183', '78', '433', '366', '13', '354', '190', '228', '320', '271', '274', '53', '62', '58', '241', '140', '33', '112', '99', '56', '4', '79', '101', '187', '83', '68', '14', '104', '87', '17', '143', '122', '10', '134', '120', '2', '64', '104', '55', '31', '89', '35', '82', '37', '34', '57', '55', '41', '46', '24', '56', '14', '29', '40', '13', '14', '30', '37', '9', '1', '19', '21', '12', '13', '9', '13', '16', '14', '18', '17', '9', '7', '14', '14', '11', '7', '14', '13', '8', '2', '', '8', '11', '10', '9', '', '6', '8', '4', '5', '', '6', '5', '3', '', '78,120', '301,363', '655,461', '103,623', '362,575', '21,978', '7,630', '645']\n",
      "['1,029,287', '61,603', '84,842', '183,329', '173,467', '94,310', '19,375', '83,720', '43,896', '14,820', '31,760', '42,955', '41,472', '30,783', '36,937', '26,753', '8,283', '2,075', '20,803', '23,921', '23,781', '14,248', '18,126', '21,020', '16,436', '4,204', '19,753', '13,196', '4,826', '1,262', '9,332', '9,150', '7,359', '11,781', '11,779', '10,361', '1,008', '8,151', '7,481', '1,683', '7,087', '6,913', '5,251', '6,448', '5,901', '3,544', '7,848', '3,371', '681', '1,523', '3,305', '1,695', '3,748', '2,518', '3,197', '2,781', '2,783', '3,724', '3,863', '3,278', '226', '2,265', '1,943', '1,917', '159', '1,185', '870', '1,000', '2,065', '771', '531', '363', '904', '1,333', '1,421', '1,527', '18', '540', '929', '1,041', '877', '419', '102', '601', '490', '1,098', '352', '981', '62', '327', '315', '839', '485', '839', '457', '768', '476', '579', '187', '517', '585', '153', '758', '294', '161', '131', '54', '171', '357', '524', '543', '412', '613', '470', '316', '592', '57', '126', '305', '411', '58', '68', '422', '77', '202', '145', '2', '36', '41', '238', '255', '215', '47', '140', '231', '133', '135', '178', '199', '100', '92', '0', '89', '104', '147', '37', '56', '122', '3', '21', '133', '6', '2', '118', '47', '4', '61', '79', '9', '52', '10', '44', '53', '20', '26', '39', '15', '37', '4', '39', '15', '5', '28', '28', '6', '2', '23', '26', '3', '3', '10', '8', '10', '6', '0', '4', '0', '1', '8', '4', '1', '2', '5', '7', '1', '0', '3', '10', '10', '2', '0', '1', '0', '7', '1', '0', '2', '2', '6', '0', '1', '0', '1', '148', '1,084,451', '814,554', '179,108', '275,086', '38,339', '791', '61']\n",
      "['16,816', '1,741', '1,034', '1,559', '2,300', '2,812', '1,650', '8,318', '1,168', '2,675', '502', '748', '', '476', '541', '140', '378', '101', '111', '181', '120', '544', '360', '23', '92', '72', '72', '1', '74', '72', '160', '287', '242', '201', '1', '', '55', '31', '130', '40', '43', '134', '77', '41', '114', '85', '24', '40', '17', '18', '1', '45', '148', '22', '31', '237', '2', '7', '5', '4', '15', '17', '10', '50', '61', '28', '', '28', '3', '29', '8', '13', '4', '', '56', '10', '', '8', '5', '6', '', '21', '2', '17', '5', '10', '', '', '1', '19', '13', '2', '7', '5', '2', '', '10', '4', '7', '1', '4', '', '2', '6', '14', '', '4', '8', '', '9', '1', '1', '', '3', '6', '', '', '5', '7', '', '', '', '', '5', '1', '', '3', '19', '2', '', '', '', '8', '', '', '1', '1', '', '', '', '1', '', '3', '', '', '4', '', '', '', '', '', '2', '1', '', '4', '', '', '', '4', '5', '1', '1', '', '4', '', '3', '7', '', '1', '1', '', '1', '', '', '1', '', '', '', '1', '', '', '4', '', '', '', '', '', '', '', '', '', '', '', '', '', '', '', '', '', '1', '', '', '', '', '', '', '', '', '', '', '', '', '', '13', '17,985', '14,234', '10,095', '5,002', '233', '20', '4']\n",
      "['8,918,345', '2,467,761', '2,514,234', '1,728,443', '5,448,463', '1,384,633', '2,755,770', '339,552', '1,334,411', '586,699', '1,068,000', '494,250', '1,609,037', '566,101', '249,655', '433,500', '128,148', '309,595', '283,517', '83,657', '517,660', '267,904', '148,500', '175,604', '263,543', '214,761', '127,769', '1,200,000', '455,267', '316,508', '476,904', '211,997', '256,749', '176,403', '122,657', '158,273', '663,886', '163,177', '144,912', '317,834', '134,533', '40,591', '324,079', '90,000', '196,397', '40,356', '195,921', '302,493', '827,872', '256,937', '64,836', '121,500', '80,729', '6,500', '398,411', '20,447', '182,906', '15,560', '155,201', '23,835', '54,463', '50,000', '31,590', '108,257', '227,860', '97,384', '124,920', '', '7,651', '188,950', '325,000', '44,218', '41,282', '', '57,231', '5,653', '53,260', '63,560', '63,372', '18,969', '12,312', '18,821', '190,326', '183,913', '119,859', '62,203', '15,056', '', '168,291', '29,297', '59,490', '', '4,000', '7,200', '76,592', '', '74,746', '41,090', '10,438', '35,323', '51,182', '5,515', '11,775', '16,517', '1,673', '', '', '27,461', '2,172', '14,646', '724', '31,041', '1,500', '2,956', '27,846', '', '5,342', '111,285', '', '6,889', '40,493', '67,133', '854', '17,200', '512,181', '34,511', '69,773', '3,758', '7,816', '', '19,474', '', '261,004', '41,385', '', '10,270', '34,860', '791', '175', '', '3,968', '8,450', '', '11,222', '714', '', '10,094', '1,160', '3,962', '', '3,498', '15,898', '13,448', '1,247', '4,020', '2,301', '56,767', '72,239', '1,860', '852', '', '1,500', '3,356', '2,926', '900', '3,423', '329', '3,093', '2,950', '1,188', '', '', '3,000', '9,600', '', '', '20,537', '120', '183', '738', '9,540', '1,406', '849', '3,187', '1,043', '1,300', '5,213', '620', '137', '', '389', '416', '1,543', '284', '327', '402', '109', '', '', '36', '1,394', '', '404', '', '1,842', '2,402', '167', '11,655', '110', '', '', '', '', '', '', '', '', '', '', '', '']\n"
     ]
    }
   ],
   "source": [
    "country=[]\n",
    "total_cases=[]\n",
    "new_cases=[]\n",
    "total_deaths=[]\n",
    "new_deaths=[]\n",
    "total_recovered=[]\n",
    "active_cases=[]\n",
    "serious_cases=[]\n",
    "total_tests=[]\n",
    "rows=co.find_all(\"tr\")[9:-1]\n",
    "\n",
    "for row in rows:\n",
    "    col=row.find_all(\"td\")\n",
    "    country.append(col[0].text.strip())\n",
    "    total_cases.append(col[1].text.strip())\n",
    "    new_cases.append(col[2].text.strip())\n",
    "    total_deaths.append(col[3].text.strip())\n",
    "    new_deaths.append(col[4].text.strip())\n",
    "    total_recovered.append(col[5].text.strip())\n",
    "    active_cases.append(col[6].text.strip())\n",
    "    serious_cases.append(col[7].text.strip())\n",
    "    total_tests.append(col[10].text.strip())\n",
    "    \n",
    "print(country)\n",
    "print(total_cases)\n",
    "print(new_cases)\n",
    "print(total_deaths)\n",
    "print(new_deaths)\n",
    "print(total_recovered)\n",
    "print(active_cases)\n",
    "print(serious_cases)\n",
    "print(total_tests)"
   ]
  },
  {
   "cell_type": "code",
   "execution_count": 11,
   "metadata": {},
   "outputs": [
    {
     "data": {
      "text/html": [
       "<div>\n",
       "<style scoped>\n",
       "    .dataframe tbody tr th:only-of-type {\n",
       "        vertical-align: middle;\n",
       "    }\n",
       "\n",
       "    .dataframe tbody tr th {\n",
       "        vertical-align: top;\n",
       "    }\n",
       "\n",
       "    .dataframe thead th {\n",
       "        text-align: right;\n",
       "    }\n",
       "</style>\n",
       "<table border=\"1\" class=\"dataframe\">\n",
       "  <thead>\n",
       "    <tr style=\"text-align: right;\">\n",
       "      <th></th>\n",
       "      <th>Country</th>\n",
       "      <th>Total_Cases</th>\n",
       "      <th>New_Cases</th>\n",
       "      <th>Total_Deaths</th>\n",
       "      <th>New_Deaths</th>\n",
       "      <th>Total_Recovered</th>\n",
       "      <th>Active_Cases</th>\n",
       "      <th>Serious_Cases</th>\n",
       "      <th>Total_Tests</th>\n",
       "    </tr>\n",
       "  </thead>\n",
       "  <tbody>\n",
       "    <tr>\n",
       "      <th>0</th>\n",
       "      <td>USA</td>\n",
       "      <td>1,347,411</td>\n",
       "      <td>+102</td>\n",
       "      <td>80,044</td>\n",
       "      <td>+7</td>\n",
       "      <td>238,080</td>\n",
       "      <td>1,029,287</td>\n",
       "      <td>16,816</td>\n",
       "      <td>8,918,345</td>\n",
       "    </tr>\n",
       "    <tr>\n",
       "      <th>1</th>\n",
       "      <td>Spain</td>\n",
       "      <td>264,663</td>\n",
       "      <td>+1,880</td>\n",
       "      <td>26,621</td>\n",
       "      <td>+143</td>\n",
       "      <td>176,439</td>\n",
       "      <td>61,603</td>\n",
       "      <td>1,741</td>\n",
       "      <td>2,467,761</td>\n",
       "    </tr>\n",
       "    <tr>\n",
       "      <th>2</th>\n",
       "      <td>Italy</td>\n",
       "      <td>218,268</td>\n",
       "      <td></td>\n",
       "      <td>30,395</td>\n",
       "      <td></td>\n",
       "      <td>103,031</td>\n",
       "      <td>84,842</td>\n",
       "      <td>1,034</td>\n",
       "      <td>2,514,234</td>\n",
       "    </tr>\n",
       "    <tr>\n",
       "      <th>3</th>\n",
       "      <td>UK</td>\n",
       "      <td>215,260</td>\n",
       "      <td></td>\n",
       "      <td>31,587</td>\n",
       "      <td></td>\n",
       "      <td>N/A</td>\n",
       "      <td>183,329</td>\n",
       "      <td>1,559</td>\n",
       "      <td>1,728,443</td>\n",
       "    </tr>\n",
       "    <tr>\n",
       "      <th>4</th>\n",
       "      <td>Russia</td>\n",
       "      <td>209,688</td>\n",
       "      <td>+11,012</td>\n",
       "      <td>1,915</td>\n",
       "      <td>+88</td>\n",
       "      <td>34,306</td>\n",
       "      <td>173,467</td>\n",
       "      <td>2,300</td>\n",
       "      <td>5,448,463</td>\n",
       "    </tr>\n",
       "    <tr>\n",
       "      <th>...</th>\n",
       "      <td>...</td>\n",
       "      <td>...</td>\n",
       "      <td>...</td>\n",
       "      <td>...</td>\n",
       "      <td>...</td>\n",
       "      <td>...</td>\n",
       "      <td>...</td>\n",
       "      <td>...</td>\n",
       "      <td>...</td>\n",
       "    </tr>\n",
       "    <tr>\n",
       "      <th>216</th>\n",
       "      <td>Total:</td>\n",
       "      <td>298,131</td>\n",
       "      <td>+177</td>\n",
       "      <td>15,400</td>\n",
       "      <td>+8</td>\n",
       "      <td>103,623</td>\n",
       "      <td>179,108</td>\n",
       "      <td>10,095</td>\n",
       "      <td></td>\n",
       "    </tr>\n",
       "    <tr>\n",
       "      <th>217</th>\n",
       "      <td>Total:</td>\n",
       "      <td>659,647</td>\n",
       "      <td>+8,763</td>\n",
       "      <td>21,986</td>\n",
       "      <td>+135</td>\n",
       "      <td>362,575</td>\n",
       "      <td>275,086</td>\n",
       "      <td>5,002</td>\n",
       "      <td></td>\n",
       "    </tr>\n",
       "    <tr>\n",
       "      <th>218</th>\n",
       "      <td>Total:</td>\n",
       "      <td>62,558</td>\n",
       "      <td>+573</td>\n",
       "      <td>2,241</td>\n",
       "      <td>+9</td>\n",
       "      <td>21,978</td>\n",
       "      <td>38,339</td>\n",
       "      <td>233</td>\n",
       "      <td></td>\n",
       "    </tr>\n",
       "    <tr>\n",
       "      <th>219</th>\n",
       "      <td>Total:</td>\n",
       "      <td>8,539</td>\n",
       "      <td>+14</td>\n",
       "      <td>118</td>\n",
       "      <td></td>\n",
       "      <td>7,630</td>\n",
       "      <td>791</td>\n",
       "      <td>20</td>\n",
       "      <td></td>\n",
       "    </tr>\n",
       "    <tr>\n",
       "      <th>220</th>\n",
       "      <td>Total:</td>\n",
       "      <td>721</td>\n",
       "      <td></td>\n",
       "      <td>15</td>\n",
       "      <td></td>\n",
       "      <td>645</td>\n",
       "      <td>61</td>\n",
       "      <td>4</td>\n",
       "      <td></td>\n",
       "    </tr>\n",
       "  </tbody>\n",
       "</table>\n",
       "<p>221 rows × 9 columns</p>\n",
       "</div>"
      ],
      "text/plain": [
       "    Country Total_Cases New_Cases Total_Deaths New_Deaths Total_Recovered  \\\n",
       "0       USA   1,347,411      +102       80,044         +7         238,080   \n",
       "1     Spain     264,663    +1,880       26,621       +143         176,439   \n",
       "2     Italy     218,268                 30,395                    103,031   \n",
       "3        UK     215,260                 31,587                        N/A   \n",
       "4    Russia     209,688   +11,012        1,915        +88          34,306   \n",
       "..      ...         ...       ...          ...        ...             ...   \n",
       "216  Total:     298,131      +177       15,400         +8         103,623   \n",
       "217  Total:     659,647    +8,763       21,986       +135         362,575   \n",
       "218  Total:      62,558      +573        2,241         +9          21,978   \n",
       "219  Total:       8,539       +14          118                      7,630   \n",
       "220  Total:         721                     15                        645   \n",
       "\n",
       "    Active_Cases Serious_Cases Total_Tests  \n",
       "0      1,029,287        16,816   8,918,345  \n",
       "1         61,603         1,741   2,467,761  \n",
       "2         84,842         1,034   2,514,234  \n",
       "3        183,329         1,559   1,728,443  \n",
       "4        173,467         2,300   5,448,463  \n",
       "..           ...           ...         ...  \n",
       "216      179,108        10,095              \n",
       "217      275,086         5,002              \n",
       "218       38,339           233              \n",
       "219          791            20              \n",
       "220           61             4              \n",
       "\n",
       "[221 rows x 9 columns]"
      ]
     },
     "execution_count": 11,
     "metadata": {},
     "output_type": "execute_result"
    }
   ],
   "source": [
    "df=pd.DataFrame(list(zip(country, total_cases,new_cases,total_deaths, new_deaths,total_recovered,active_cases,serious_cases,total_tests)), columns=[\"Country\",\"Total_Cases\",\"New_Cases\",\"Total_Deaths\",\"New_Deaths\",\"Total_Recovered\",\"Active_Cases\",\"Serious_Cases\",\"Total_Tests\"])\n",
    "df"
   ]
  },
  {
   "cell_type": "code",
   "execution_count": 12,
   "metadata": {},
   "outputs": [
    {
     "data": {
      "text/plain": [
       "Country            object\n",
       "Total_Cases        object\n",
       "New_Cases          object\n",
       "Total_Deaths       object\n",
       "New_Deaths         object\n",
       "Total_Recovered    object\n",
       "Active_Cases       object\n",
       "Serious_Cases      object\n",
       "Total_Tests        object\n",
       "dtype: object"
      ]
     },
     "execution_count": 12,
     "metadata": {},
     "output_type": "execute_result"
    }
   ],
   "source": [
    "#getting datatypes of all the columns\n",
    "df.dtypes"
   ]
  },
  {
   "cell_type": "code",
   "execution_count": 13,
   "metadata": {},
   "outputs": [
    {
     "name": "stdout",
     "output_type": "stream",
     "text": [
      "<class 'pandas.core.frame.DataFrame'>\n",
      "RangeIndex: 221 entries, 0 to 220\n",
      "Data columns (total 9 columns):\n",
      "Country            221 non-null object\n",
      "Total_Cases        221 non-null object\n",
      "New_Cases          221 non-null object\n",
      "Total_Deaths       221 non-null object\n",
      "New_Deaths         221 non-null object\n",
      "Total_Recovered    221 non-null object\n",
      "Active_Cases       221 non-null object\n",
      "Serious_Cases      221 non-null object\n",
      "Total_Tests        221 non-null object\n",
      "dtypes: object(9)\n",
      "memory usage: 15.7+ KB\n"
     ]
    }
   ],
   "source": [
    "df.info()"
   ]
  },
  {
   "cell_type": "code",
   "execution_count": 14,
   "metadata": {},
   "outputs": [
    {
     "data": {
      "text/html": [
       "<div>\n",
       "<style scoped>\n",
       "    .dataframe tbody tr th:only-of-type {\n",
       "        vertical-align: middle;\n",
       "    }\n",
       "\n",
       "    .dataframe tbody tr th {\n",
       "        vertical-align: top;\n",
       "    }\n",
       "\n",
       "    .dataframe thead th {\n",
       "        text-align: right;\n",
       "    }\n",
       "</style>\n",
       "<table border=\"1\" class=\"dataframe\">\n",
       "  <thead>\n",
       "    <tr style=\"text-align: right;\">\n",
       "      <th></th>\n",
       "      <th>Country</th>\n",
       "      <th>Total_Cases</th>\n",
       "      <th>New_Cases</th>\n",
       "      <th>Total_Deaths</th>\n",
       "      <th>New_Deaths</th>\n",
       "      <th>Total_Recovered</th>\n",
       "      <th>Active_Cases</th>\n",
       "      <th>Serious_Cases</th>\n",
       "      <th>Total_Tests</th>\n",
       "    </tr>\n",
       "  </thead>\n",
       "  <tbody>\n",
       "    <tr>\n",
       "      <th>0</th>\n",
       "      <td>USA</td>\n",
       "      <td>1,347,411</td>\n",
       "      <td>+102</td>\n",
       "      <td>80,044</td>\n",
       "      <td>+7</td>\n",
       "      <td>238,080</td>\n",
       "      <td>1,029,287</td>\n",
       "      <td>16,816</td>\n",
       "      <td>8,918,345</td>\n",
       "    </tr>\n",
       "    <tr>\n",
       "      <th>1</th>\n",
       "      <td>Spain</td>\n",
       "      <td>264,663</td>\n",
       "      <td>+1,880</td>\n",
       "      <td>26,621</td>\n",
       "      <td>+143</td>\n",
       "      <td>176,439</td>\n",
       "      <td>61,603</td>\n",
       "      <td>1,741</td>\n",
       "      <td>2,467,761</td>\n",
       "    </tr>\n",
       "    <tr>\n",
       "      <th>2</th>\n",
       "      <td>Italy</td>\n",
       "      <td>218,268</td>\n",
       "      <td>0</td>\n",
       "      <td>30,395</td>\n",
       "      <td>0</td>\n",
       "      <td>103,031</td>\n",
       "      <td>84,842</td>\n",
       "      <td>1,034</td>\n",
       "      <td>2,514,234</td>\n",
       "    </tr>\n",
       "    <tr>\n",
       "      <th>3</th>\n",
       "      <td>UK</td>\n",
       "      <td>215,260</td>\n",
       "      <td>0</td>\n",
       "      <td>31,587</td>\n",
       "      <td>0</td>\n",
       "      <td>0</td>\n",
       "      <td>183,329</td>\n",
       "      <td>1,559</td>\n",
       "      <td>1,728,443</td>\n",
       "    </tr>\n",
       "    <tr>\n",
       "      <th>4</th>\n",
       "      <td>Russia</td>\n",
       "      <td>209,688</td>\n",
       "      <td>+11,012</td>\n",
       "      <td>1,915</td>\n",
       "      <td>+88</td>\n",
       "      <td>34,306</td>\n",
       "      <td>173,467</td>\n",
       "      <td>2,300</td>\n",
       "      <td>5,448,463</td>\n",
       "    </tr>\n",
       "    <tr>\n",
       "      <th>5</th>\n",
       "      <td>France</td>\n",
       "      <td>176,658</td>\n",
       "      <td>0</td>\n",
       "      <td>26,310</td>\n",
       "      <td>0</td>\n",
       "      <td>56,038</td>\n",
       "      <td>94,310</td>\n",
       "      <td>2,812</td>\n",
       "      <td>1,384,633</td>\n",
       "    </tr>\n",
       "    <tr>\n",
       "      <th>6</th>\n",
       "      <td>Germany</td>\n",
       "      <td>171,324</td>\n",
       "      <td>0</td>\n",
       "      <td>7,549</td>\n",
       "      <td>0</td>\n",
       "      <td>144,400</td>\n",
       "      <td>19,375</td>\n",
       "      <td>1,650</td>\n",
       "      <td>2,755,770</td>\n",
       "    </tr>\n",
       "    <tr>\n",
       "      <th>7</th>\n",
       "      <td>Brazil</td>\n",
       "      <td>156,061</td>\n",
       "      <td>0</td>\n",
       "      <td>10,656</td>\n",
       "      <td>0</td>\n",
       "      <td>61,685</td>\n",
       "      <td>83,720</td>\n",
       "      <td>8,318</td>\n",
       "      <td>339,552</td>\n",
       "    </tr>\n",
       "    <tr>\n",
       "      <th>8</th>\n",
       "      <td>Turkey</td>\n",
       "      <td>137,115</td>\n",
       "      <td>0</td>\n",
       "      <td>3,739</td>\n",
       "      <td>0</td>\n",
       "      <td>89,480</td>\n",
       "      <td>43,896</td>\n",
       "      <td>1,168</td>\n",
       "      <td>1,334,411</td>\n",
       "    </tr>\n",
       "    <tr>\n",
       "      <th>9</th>\n",
       "      <td>Iran</td>\n",
       "      <td>107,603</td>\n",
       "      <td>+1,383</td>\n",
       "      <td>6,640</td>\n",
       "      <td>+51</td>\n",
       "      <td>86,143</td>\n",
       "      <td>14,820</td>\n",
       "      <td>2,675</td>\n",
       "      <td>586,699</td>\n",
       "    </tr>\n",
       "    <tr>\n",
       "      <th>10</th>\n",
       "      <td>Canada</td>\n",
       "      <td>67,702</td>\n",
       "      <td>0</td>\n",
       "      <td>4,693</td>\n",
       "      <td>0</td>\n",
       "      <td>31,249</td>\n",
       "      <td>31,760</td>\n",
       "      <td>502</td>\n",
       "      <td>1,068,000</td>\n",
       "    </tr>\n",
       "    <tr>\n",
       "      <th>11</th>\n",
       "      <td>Peru</td>\n",
       "      <td>65,015</td>\n",
       "      <td>0</td>\n",
       "      <td>1,814</td>\n",
       "      <td>0</td>\n",
       "      <td>20,246</td>\n",
       "      <td>42,955</td>\n",
       "      <td>748</td>\n",
       "      <td>494,250</td>\n",
       "    </tr>\n",
       "    <tr>\n",
       "      <th>12</th>\n",
       "      <td>India</td>\n",
       "      <td>62,939</td>\n",
       "      <td>+131</td>\n",
       "      <td>2,109</td>\n",
       "      <td>+8</td>\n",
       "      <td>19,358</td>\n",
       "      <td>41,472</td>\n",
       "      <td>0</td>\n",
       "      <td>1,609,037</td>\n",
       "    </tr>\n",
       "    <tr>\n",
       "      <th>13</th>\n",
       "      <td>Belgium</td>\n",
       "      <td>53,081</td>\n",
       "      <td>+485</td>\n",
       "      <td>8,656</td>\n",
       "      <td>+75</td>\n",
       "      <td>13,642</td>\n",
       "      <td>30,783</td>\n",
       "      <td>476</td>\n",
       "      <td>566,101</td>\n",
       "    </tr>\n",
       "    <tr>\n",
       "      <th>14</th>\n",
       "      <td>Netherlands</td>\n",
       "      <td>42,627</td>\n",
       "      <td>+245</td>\n",
       "      <td>5,440</td>\n",
       "      <td>+18</td>\n",
       "      <td>0</td>\n",
       "      <td>36,937</td>\n",
       "      <td>541</td>\n",
       "      <td>249,655</td>\n",
       "    </tr>\n",
       "    <tr>\n",
       "      <th>15</th>\n",
       "      <td>Saudi Arabia</td>\n",
       "      <td>37,136</td>\n",
       "      <td>0</td>\n",
       "      <td>239</td>\n",
       "      <td>0</td>\n",
       "      <td>10,144</td>\n",
       "      <td>26,753</td>\n",
       "      <td>140</td>\n",
       "      <td>433,500</td>\n",
       "    </tr>\n",
       "    <tr>\n",
       "      <th>16</th>\n",
       "      <td>Mexico</td>\n",
       "      <td>33,460</td>\n",
       "      <td>+1,938</td>\n",
       "      <td>3,353</td>\n",
       "      <td>+193</td>\n",
       "      <td>21,824</td>\n",
       "      <td>8,283</td>\n",
       "      <td>378</td>\n",
       "      <td>128,148</td>\n",
       "    </tr>\n",
       "    <tr>\n",
       "      <th>17</th>\n",
       "      <td>Switzerland</td>\n",
       "      <td>30,305</td>\n",
       "      <td>+54</td>\n",
       "      <td>1,830</td>\n",
       "      <td>0</td>\n",
       "      <td>26,400</td>\n",
       "      <td>2,075</td>\n",
       "      <td>101</td>\n",
       "      <td>309,595</td>\n",
       "    </tr>\n",
       "    <tr>\n",
       "      <th>18</th>\n",
       "      <td>Pakistan</td>\n",
       "      <td>29,465</td>\n",
       "      <td>+729</td>\n",
       "      <td>639</td>\n",
       "      <td>+3</td>\n",
       "      <td>8,023</td>\n",
       "      <td>20,803</td>\n",
       "      <td>111</td>\n",
       "      <td>283,517</td>\n",
       "    </tr>\n",
       "    <tr>\n",
       "      <th>19</th>\n",
       "      <td>Ecuador</td>\n",
       "      <td>29,071</td>\n",
       "      <td>0</td>\n",
       "      <td>1,717</td>\n",
       "      <td>0</td>\n",
       "      <td>3,433</td>\n",
       "      <td>23,921</td>\n",
       "      <td>181</td>\n",
       "      <td>83,657</td>\n",
       "    </tr>\n",
       "  </tbody>\n",
       "</table>\n",
       "</div>"
      ],
      "text/plain": [
       "         Country Total_Cases New_Cases Total_Deaths New_Deaths  \\\n",
       "0            USA   1,347,411      +102       80,044         +7   \n",
       "1          Spain     264,663    +1,880       26,621       +143   \n",
       "2          Italy     218,268         0       30,395          0   \n",
       "3             UK     215,260         0       31,587          0   \n",
       "4         Russia     209,688   +11,012        1,915        +88   \n",
       "5         France     176,658         0       26,310          0   \n",
       "6        Germany     171,324         0        7,549          0   \n",
       "7         Brazil     156,061         0       10,656          0   \n",
       "8         Turkey     137,115         0        3,739          0   \n",
       "9           Iran     107,603    +1,383        6,640        +51   \n",
       "10        Canada      67,702         0        4,693          0   \n",
       "11          Peru      65,015         0        1,814          0   \n",
       "12         India      62,939      +131        2,109         +8   \n",
       "13       Belgium      53,081      +485        8,656        +75   \n",
       "14   Netherlands      42,627      +245        5,440        +18   \n",
       "15  Saudi Arabia      37,136         0          239          0   \n",
       "16        Mexico      33,460    +1,938        3,353       +193   \n",
       "17   Switzerland      30,305       +54        1,830          0   \n",
       "18      Pakistan      29,465      +729          639         +3   \n",
       "19       Ecuador      29,071         0        1,717          0   \n",
       "\n",
       "   Total_Recovered Active_Cases Serious_Cases Total_Tests  \n",
       "0          238,080    1,029,287        16,816   8,918,345  \n",
       "1          176,439       61,603         1,741   2,467,761  \n",
       "2          103,031       84,842         1,034   2,514,234  \n",
       "3                0      183,329         1,559   1,728,443  \n",
       "4           34,306      173,467         2,300   5,448,463  \n",
       "5           56,038       94,310         2,812   1,384,633  \n",
       "6          144,400       19,375         1,650   2,755,770  \n",
       "7           61,685       83,720         8,318     339,552  \n",
       "8           89,480       43,896         1,168   1,334,411  \n",
       "9           86,143       14,820         2,675     586,699  \n",
       "10          31,249       31,760           502   1,068,000  \n",
       "11          20,246       42,955           748     494,250  \n",
       "12          19,358       41,472             0   1,609,037  \n",
       "13          13,642       30,783           476     566,101  \n",
       "14               0       36,937           541     249,655  \n",
       "15          10,144       26,753           140     433,500  \n",
       "16          21,824        8,283           378     128,148  \n",
       "17          26,400        2,075           101     309,595  \n",
       "18           8,023       20,803           111     283,517  \n",
       "19           3,433       23,921           181      83,657  "
      ]
     },
     "execution_count": 14,
     "metadata": {},
     "output_type": "execute_result"
    }
   ],
   "source": [
    "#df.replace(r'^\\s*$', np.nan, regex=True, inplace=True)\n",
    "df.replace(r'^\\s*$', np.nan, regex=True, inplace=True)\n",
    "df.replace(np.nan,0, inplace=True)\n",
    "df.replace('N/A',np.nan, inplace=True)\n",
    "df.replace(np.nan,0,inplace=True)\n",
    "df.head(20)"
   ]
  },
  {
   "cell_type": "code",
   "execution_count": 15,
   "metadata": {},
   "outputs": [
    {
     "name": "stdout",
     "output_type": "stream",
     "text": [
      "[102, 1880, 0, 0, 11012, 0, 0, 0, 0, 1383, 0, 0, 131, 485, 245, 0, 1938, 54, 729, 0, 0, 0, 401, 876, 921, 0, 1189, 781, 4, 38, 170, 0, 231, 522, 887, 387, 34, 184, 0, 110, 0, 0, 0, 0, 1065, 212, 0, 0, 12, 67, 128, 82, 0, 0, 81, 0, 82, 369, 0, 0, 0, 175, 138, 50, 5, 0, 0, 305, 171, 0, 62, 0, 27, 0, 34, 59, 0, 0, 6, 75, 0, 0, 2, 35, 2, 0, 0, 0, 3, 0, 71, 0, 0, 67, 9, 0, 0, 105, 12, 0, 36, 0, 0, 0, 0, 0, 0, 0, 0, 0, 0, 0, 0, 0, 9, 0, 0, 0, 0, 8, 6, 0, 0, 0, 0, 0, 0, 1, 0, 0, 35, 0, 0, 0, 0, 0, 29, 0, 0, 0, 0, 0, 0, 0, 0, 0, 0, 0, 0, 3, 0, 0, 0, 0, 0, 0, 0, 1, 0, 3, 0, 0, 0, 0, 0, 0, 0, 0, 0, 0, 0, 0, 0, 0, 0, 0, 1, 0, 0, 0, 0, 0, 0, 0, 0, 0, 0, 0, 0, 0, 0, 0, 0, 0, 0, 0, 0, 0, 0, 0, 0, 0, 0, 0, 0, 0, 0, 0, 0, 0, 0, 0, 0, 14, 2491, 16333, 177, 8763, 573, 14, 0]\n",
      "[1347411, 264663, 218268, 215260, 209688, 176658, 171324, 156061, 137115, 107603, 67702, 65015, 62939, 53081, 42627, 37136, 33460, 30305, 29465, 29071, 27406, 27219, 26322, 23336, 22973, 22760, 22520, 18198, 16458, 15871, 15821, 15663, 15362, 15232, 14657, 14032, 10874, 10794, 10495, 10429, 10032, 9882, 9420, 8964, 8688, 8282, 8099, 8095, 6941, 6656, 6038, 5962, 5776, 5558, 5056, 4867, 4856, 4402, 4263, 4151, 3877, 3399, 3313, 3263, 3009, 2710, 2679, 2579, 2437, 2422, 2411, 2176, 2117, 2042, 1955, 1830, 1801, 1754, 1739, 1709, 1667, 1622, 1494, 1479, 1457, 1454, 1189, 1164, 1048, 1032, 1002, 997, 988, 967, 939, 937, 892, 889, 868, 847, 845, 815, 790, 780, 754, 748, 712, 702, 692, 689, 661, 649, 641, 637, 635, 612, 545, 522, 509, 498, 496, 440, 439, 431, 402, 375, 332, 330, 324, 322, 319, 291, 288, 280, 274, 252, 239, 236, 208, 199, 193, 187, 186, 178, 163, 154, 153, 151, 146, 144, 143, 141, 122, 120, 118, 116, 116, 110, 101, 97, 96, 92, 87, 84, 82, 81, 76, 64, 60, 56, 47, 45, 43, 42, 39, 39, 36, 34, 25, 24, 23, 21, 20, 19, 18, 18, 18, 18, 17, 16, 16, 16, 16, 15, 15, 13, 12, 12, 11, 11, 11, 11, 10, 9, 8, 8, 7, 7, 6, 6, 6, 3, 1, 82901, 1474872, 1622171, 298131, 659647, 62558, 8539, 721]\n",
      "[80044, 26621, 30395, 31587, 1915, 26310, 7549, 10656, 3739, 6640, 4693, 1814, 2109, 8656, 5440, 239, 3353, 1830, 639, 1717, 1126, 304, 3225, 20, 131, 1446, 14, 198, 248, 618, 791, 607, 952, 391, 228, 973, 256, 719, 445, 529, 213, 385, 186, 514, 58, 237, 219, 276, 97, 108, 188, 267, 300, 494, 31, 161, 8, 120, 22, 128, 101, 17, 45, 413, 56, 151, 107, 114, 114, 31, 10, 87, 107, 11, 90, 108, 10, 74, 60, 18, 21, 91, 21, 50, 26, 101, 3, 64, 4, 45, 12, 48, 11, 24, 18, 39, 15, 17, 31, 9, 26, 45, 3, 6, 48, 48, 13, 18, 37, 10, 8, 30, 3, 41, 10, 20, 41, 9, 21, 9, 5, 6, 4, 0, 10, 2, 10, 23, 9, 31, 2, 18, 0, 0, 10, 7, 5, 2, 5, 20, 0, 0, 14, 6, 2, 13, 10, 12, 0, 1, 0, 1, 0, 0, 7, 8, 0, 0, 3, 10, 4, 11, 0, 7, 1, 1, 15, 3, 0, 3, 3, 0, 2, 0, 3, 0, 4, 7, 3, 0, 1, 0, 1, 0, 2, 0, 0, 0, 0, 5, 1, 0, 0, 1, 0, 0, 1, 0, 1, 1, 0, 0, 1, 2, 1, 0, 1, 0, 0, 0, 0, 0, 0, 4633, 89058, 152156, 15400, 21986, 2241, 118, 15]\n",
      "[7, 143, 0, 0, 88, 0, 0, 0, 0, 51, 0, 0, 8, 75, 18, 0, 193, 0, 3, 0, 0, 0, 5, 0, 5, 0, 1, 13, 1, 3, 6, 0, 13, 15, 14, 14, 0, 15, 0, 3, 0, 0, 0, 0, 9, 6, 0, 0, 0, 0, 2, 2, 0, 0, 0, 0, 0, 5, 0, 0, 0, 0, 1, 8, 0, 0, 0, 6, 8, 0, 0, 0, 5, 0, 0, 1, 0, 0, 0, 1, 0, 0, 0, 1, 0, 0, 0, 0, 0, 0, 0, 0, 0, 0, 0, 0, 0, 0, 0, 0, 0, 0, 0, 0, 0, 0, 0, 0, 0, 0, 0, 0, 0, 0, 0, 0, 0, 0, 0, 0, 0, 0, 0, 0, 0, 0, 0, 0, 1, 0, 0, 0, 0, 0, 0, 0, 0, 0, 0, 0, 0, 0, 0, 0, 0, 0, 0, 0, 0, 0, 0, 0, 0, 0, 0, 0, 0, 0, 0, 0, 0, 0, 0, 0, 0, 0, 0, 0, 0, 0, 0, 0, 0, 0, 0, 0, 0, 0, 0, 0, 0, 0, 0, 0, 0, 0, 0, 0, 0, 0, 0, 0, 0, 0, 0, 0, 0, 0, 0, 0, 0, 0, 0, 0, 0, 0, 0, 0, 0, 0, 0, 0, 0, 0, 207, 391, 8, 135, 9, 0, 0]\n",
      "[238080, 176439, 103031, 0, 34306, 56038, 144400, 61685, 89480, 86143, 31249, 20246, 19358, 13642, 0, 10144, 21824, 26400, 8023, 3433, 2499, 12667, 4971, 2296, 6406, 17110, 2753, 4804, 11384, 13991, 5698, 5906, 7051, 3060, 2650, 2698, 9610, 1924, 2569, 8217, 2732, 2584, 3983, 2002, 2729, 4501, 32, 4448, 6163, 5025, 2545, 4000, 1728, 2546, 1828, 1925, 2065, 558, 378, 745, 3550, 1117, 1325, 933, 2794, 1374, 1702, 1465, 258, 1620, 1870, 1726, 1106, 698, 444, 195, 1773, 1140, 750, 650, 769, 1112, 1371, 828, 941, 255, 834, 119, 982, 660, 675, 110, 492, 104, 464, 130, 401, 293, 650, 321, 234, 617, 29, 480, 545, 569, 645, 513, 298, 155, 110, 207, 25, 126, 309, 0, 447, 387, 183, 78, 433, 366, 13, 354, 190, 228, 320, 271, 274, 53, 62, 58, 241, 140, 33, 112, 99, 56, 4, 79, 101, 187, 83, 68, 14, 104, 87, 17, 143, 122, 10, 134, 120, 2, 64, 104, 55, 31, 89, 35, 82, 37, 34, 57, 55, 41, 46, 24, 56, 14, 29, 40, 13, 14, 30, 37, 9, 1, 19, 21, 12, 13, 9, 13, 16, 14, 18, 17, 9, 7, 14, 14, 11, 7, 14, 13, 8, 2, 0, 8, 11, 10, 9, 0, 6, 8, 4, 5, 0, 6, 5, 3, 0, 78120, 301363, 655461, 103623, 362575, 21978, 7630, 645]\n",
      "[1029287, 61603, 84842, 183329, 173467, 94310, 19375, 83720, 43896, 14820, 31760, 42955, 41472, 30783, 36937, 26753, 8283, 2075, 20803, 23921, 23781, 14248, 18126, 21020, 16436, 4204, 19753, 13196, 4826, 1262, 9332, 9150, 7359, 11781, 11779, 10361, 1008, 8151, 7481, 1683, 7087, 6913, 5251, 6448, 5901, 3544, 7848, 3371, 681, 1523, 3305, 1695, 3748, 2518, 3197, 2781, 2783, 3724, 3863, 3278, 226, 2265, 1943, 1917, 159, 1185, 870, 1000, 2065, 771, 531, 363, 904, 1333, 1421, 1527, 18, 540, 929, 1041, 877, 419, 102, 601, 490, 1098, 352, 981, 62, 327, 315, 839, 485, 839, 457, 768, 476, 579, 187, 517, 585, 153, 758, 294, 161, 131, 54, 171, 357, 524, 543, 412, 613, 470, 316, 592, 57, 126, 305, 411, 58, 68, 422, 77, 202, 145, 2, 36, 41, 238, 255, 215, 47, 140, 231, 133, 135, 178, 199, 100, 92, 0, 89, 104, 147, 37, 56, 122, 3, 21, 133, 6, 2, 118, 47, 4, 61, 79, 9, 52, 10, 44, 53, 20, 26, 39, 15, 37, 4, 39, 15, 5, 28, 28, 6, 2, 23, 26, 3, 3, 10, 8, 10, 6, 0, 4, 0, 1, 8, 4, 1, 2, 5, 7, 1, 0, 3, 10, 10, 2, 0, 1, 0, 7, 1, 0, 2, 2, 6, 0, 1, 0, 1, 148, 1084451, 814554, 179108, 275086, 38339, 791, 61]\n",
      "[16816, 1741, 1034, 1559, 2300, 2812, 1650, 8318, 1168, 2675, 502, 748, 0, 476, 541, 140, 378, 101, 111, 181, 120, 544, 360, 23, 92, 72, 72, 1, 74, 72, 160, 287, 242, 201, 1, 0, 55, 31, 130, 40, 43, 134, 77, 41, 114, 85, 24, 40, 17, 18, 1, 45, 148, 22, 31, 237, 2, 7, 5, 4, 15, 17, 10, 50, 61, 28, 0, 28, 3, 29, 8, 13, 4, 0, 56, 10, 0, 8, 5, 6, 0, 21, 2, 17, 5, 10, 0, 0, 1, 19, 13, 2, 7, 5, 2, 0, 10, 4, 7, 1, 4, 0, 2, 6, 14, 0, 4, 8, 0, 9, 1, 1, 0, 3, 6, 0, 0, 5, 7, 0, 0, 0, 0, 5, 1, 0, 3, 19, 2, 0, 0, 0, 8, 0, 0, 1, 1, 0, 0, 0, 1, 0, 3, 0, 0, 4, 0, 0, 0, 0, 0, 2, 1, 0, 4, 0, 0, 0, 4, 5, 1, 1, 0, 4, 0, 3, 7, 0, 1, 1, 0, 1, 0, 0, 1, 0, 0, 0, 1, 0, 0, 4, 0, 0, 0, 0, 0, 0, 0, 0, 0, 0, 0, 0, 0, 0, 0, 0, 0, 1, 0, 0, 0, 0, 0, 0, 0, 0, 0, 0, 0, 0, 0, 13, 17985, 14234, 10095, 5002, 233, 20, 4]\n",
      "[8918345, 2467761, 2514234, 1728443, 5448463, 1384633, 2755770, 339552, 1334411, 586699, 1068000, 494250, 1609037, 566101, 249655, 433500, 128148, 309595, 283517, 83657, 517660, 267904, 148500, 175604, 263543, 214761, 127769, 1200000, 455267, 316508, 476904, 211997, 256749, 176403, 122657, 158273, 663886, 163177, 144912, 317834, 134533, 40591, 324079, 90000, 196397, 40356, 195921, 302493, 827872, 256937, 64836, 121500, 80729, 6500, 398411, 20447, 182906, 15560, 155201, 23835, 54463, 50000, 31590, 108257, 227860, 97384, 124920, 0, 7651, 188950, 325000, 44218, 41282, 0, 57231, 5653, 53260, 63560, 63372, 18969, 12312, 18821, 190326, 183913, 119859, 62203, 15056, 0, 168291, 29297, 59490, 0, 4000, 7200, 76592, 0, 74746, 41090, 10438, 35323, 51182, 5515, 11775, 16517, 1673, 0, 0, 27461, 2172, 14646, 724, 31041, 1500, 2956, 27846, 0, 5342, 111285, 0, 6889, 40493, 67133, 854, 17200, 512181, 34511, 69773, 3758, 7816, 0, 19474, 0, 261004, 41385, 0, 10270, 34860, 791, 175, 0, 3968, 8450, 0, 11222, 714, 0, 10094, 1160, 3962, 0, 3498, 15898, 13448, 1247, 4020, 2301, 56767, 72239, 1860, 852, 0, 1500, 3356, 2926, 900, 3423, 329, 3093, 2950, 1188, 0, 0, 3000, 9600, 0, 0, 20537, 120, 183, 738, 9540, 1406, 849, 3187, 1043, 1300, 5213, 620, 137, 0, 389, 416, 1543, 284, 327, 402, 109, 0, 0, 36, 1394, 0, 404, 0, 1842, 2402, 167, 11655, 110, 0, 0, 0, 0, 0, 0, 0, 0, 0, 0, 0, 0]\n"
     ]
    }
   ],
   "source": [
    "#Removing all + and , and converting into int data type\n",
    "new_cases1=[]\n",
    "for i in df[\"New_Cases\"]:\n",
    "    s=str(i)\n",
    "    s1=s.replace(\"+\",\"\")\n",
    "    s2=s1.replace(\",\",\"\")\n",
    "    s3=int(s2)\n",
    "    new_cases1.append(s3)\n",
    "    \n",
    "print(new_cases1)\n",
    "\n",
    "total_cases1=[]\n",
    "for i in df[\"Total_Cases\"]:\n",
    "    s=str(i)\n",
    "    s1=s.replace(\"+\",\"\")\n",
    "    s2=s1.replace(\",\",\"\")\n",
    "    s3=int(s2)\n",
    "    total_cases1.append(s3)\n",
    "    \n",
    "print(total_cases1)\n",
    "\n",
    "total_deaths1=[]\n",
    "for i in df[\"Total_Deaths\"]:\n",
    "    s=str(i)\n",
    "    s1=s.replace(\"+\",\"\")\n",
    "    s2=s1.replace(\",\",\"\")\n",
    "    s3=int(s2)\n",
    "    total_deaths1.append(s3)\n",
    "    \n",
    "print(total_deaths1)\n",
    "\n",
    "new_deaths1=[]\n",
    "for i in df[\"New_Deaths\"]:\n",
    "    s=str(i)\n",
    "    s1=s.replace(\"+\",\"\")\n",
    "    s2=s1.replace(\",\",\"\")\n",
    "    s3=int(s2)\n",
    "    new_deaths1.append(s3)\n",
    "print(new_deaths1)\n",
    "\n",
    "total_recovered1=[]\n",
    "for i in df[\"Total_Recovered\"]:\n",
    "    s=str(i)\n",
    "    s1=s.replace(\"+\",\"\")\n",
    "    s2=s1.replace(\",\",\"\")\n",
    "    s3=int(s2)\n",
    "    total_recovered1.append(s3)\n",
    "print(total_recovered1)\n",
    "\n",
    "active_cases1=[]\n",
    "for i in df[\"Active_Cases\"]:\n",
    "    s=str(i)\n",
    "    s1=s.replace(\"+\",\"\")\n",
    "    s2=s1.replace(\",\",\"\")\n",
    "    s3=int(s2)\n",
    "    active_cases1.append(s3)\n",
    "print(active_cases1)\n",
    "\n",
    "serious_cases1=[]\n",
    "for i in df[\"Serious_Cases\"]:\n",
    "    s=str(i)\n",
    "    s1=s.replace(\"+\",\"\")\n",
    "    s2=s1.replace(\",\",\"\")\n",
    "    s3=int(s2)\n",
    "    serious_cases1.append(s3)\n",
    "print(serious_cases1)\n",
    "\n",
    "total_tests1=[]\n",
    "for i in df[\"Total_Tests\"]:\n",
    "    s=str(i)\n",
    "    s1=s.replace(\"+\",\"\")\n",
    "    s2=s1.replace(\",\",\"\")\n",
    "    s3=int(s2)\n",
    "    total_tests1.append(s3)\n",
    "print(total_tests1)"
   ]
  },
  {
   "cell_type": "code",
   "execution_count": 16,
   "metadata": {},
   "outputs": [
    {
     "data": {
      "text/html": [
       "<div>\n",
       "<style scoped>\n",
       "    .dataframe tbody tr th:only-of-type {\n",
       "        vertical-align: middle;\n",
       "    }\n",
       "\n",
       "    .dataframe tbody tr th {\n",
       "        vertical-align: top;\n",
       "    }\n",
       "\n",
       "    .dataframe thead th {\n",
       "        text-align: right;\n",
       "    }\n",
       "</style>\n",
       "<table border=\"1\" class=\"dataframe\">\n",
       "  <thead>\n",
       "    <tr style=\"text-align: right;\">\n",
       "      <th></th>\n",
       "      <th>Country</th>\n",
       "      <th>Total_Cases</th>\n",
       "      <th>New_Cases</th>\n",
       "      <th>Total_Deaths</th>\n",
       "      <th>New_Deaths</th>\n",
       "      <th>Total_Recovered</th>\n",
       "      <th>Active_Cases</th>\n",
       "      <th>Serious_Cases</th>\n",
       "      <th>Total_Tests</th>\n",
       "    </tr>\n",
       "  </thead>\n",
       "  <tbody>\n",
       "    <tr>\n",
       "      <th>0</th>\n",
       "      <td>USA</td>\n",
       "      <td>1347411</td>\n",
       "      <td>102</td>\n",
       "      <td>80044</td>\n",
       "      <td>7</td>\n",
       "      <td>238080</td>\n",
       "      <td>1029287</td>\n",
       "      <td>16816</td>\n",
       "      <td>8918345</td>\n",
       "    </tr>\n",
       "    <tr>\n",
       "      <th>1</th>\n",
       "      <td>Spain</td>\n",
       "      <td>264663</td>\n",
       "      <td>1880</td>\n",
       "      <td>26621</td>\n",
       "      <td>143</td>\n",
       "      <td>176439</td>\n",
       "      <td>61603</td>\n",
       "      <td>1741</td>\n",
       "      <td>2467761</td>\n",
       "    </tr>\n",
       "    <tr>\n",
       "      <th>2</th>\n",
       "      <td>Italy</td>\n",
       "      <td>218268</td>\n",
       "      <td>0</td>\n",
       "      <td>30395</td>\n",
       "      <td>0</td>\n",
       "      <td>103031</td>\n",
       "      <td>84842</td>\n",
       "      <td>1034</td>\n",
       "      <td>2514234</td>\n",
       "    </tr>\n",
       "    <tr>\n",
       "      <th>3</th>\n",
       "      <td>UK</td>\n",
       "      <td>215260</td>\n",
       "      <td>0</td>\n",
       "      <td>31587</td>\n",
       "      <td>0</td>\n",
       "      <td>0</td>\n",
       "      <td>183329</td>\n",
       "      <td>1559</td>\n",
       "      <td>1728443</td>\n",
       "    </tr>\n",
       "    <tr>\n",
       "      <th>4</th>\n",
       "      <td>Russia</td>\n",
       "      <td>209688</td>\n",
       "      <td>11012</td>\n",
       "      <td>1915</td>\n",
       "      <td>88</td>\n",
       "      <td>34306</td>\n",
       "      <td>173467</td>\n",
       "      <td>2300</td>\n",
       "      <td>5448463</td>\n",
       "    </tr>\n",
       "    <tr>\n",
       "      <th>5</th>\n",
       "      <td>France</td>\n",
       "      <td>176658</td>\n",
       "      <td>0</td>\n",
       "      <td>26310</td>\n",
       "      <td>0</td>\n",
       "      <td>56038</td>\n",
       "      <td>94310</td>\n",
       "      <td>2812</td>\n",
       "      <td>1384633</td>\n",
       "    </tr>\n",
       "    <tr>\n",
       "      <th>6</th>\n",
       "      <td>Germany</td>\n",
       "      <td>171324</td>\n",
       "      <td>0</td>\n",
       "      <td>7549</td>\n",
       "      <td>0</td>\n",
       "      <td>144400</td>\n",
       "      <td>19375</td>\n",
       "      <td>1650</td>\n",
       "      <td>2755770</td>\n",
       "    </tr>\n",
       "    <tr>\n",
       "      <th>7</th>\n",
       "      <td>Brazil</td>\n",
       "      <td>156061</td>\n",
       "      <td>0</td>\n",
       "      <td>10656</td>\n",
       "      <td>0</td>\n",
       "      <td>61685</td>\n",
       "      <td>83720</td>\n",
       "      <td>8318</td>\n",
       "      <td>339552</td>\n",
       "    </tr>\n",
       "    <tr>\n",
       "      <th>8</th>\n",
       "      <td>Turkey</td>\n",
       "      <td>137115</td>\n",
       "      <td>0</td>\n",
       "      <td>3739</td>\n",
       "      <td>0</td>\n",
       "      <td>89480</td>\n",
       "      <td>43896</td>\n",
       "      <td>1168</td>\n",
       "      <td>1334411</td>\n",
       "    </tr>\n",
       "    <tr>\n",
       "      <th>9</th>\n",
       "      <td>Iran</td>\n",
       "      <td>107603</td>\n",
       "      <td>1383</td>\n",
       "      <td>6640</td>\n",
       "      <td>51</td>\n",
       "      <td>86143</td>\n",
       "      <td>14820</td>\n",
       "      <td>2675</td>\n",
       "      <td>586699</td>\n",
       "    </tr>\n",
       "    <tr>\n",
       "      <th>10</th>\n",
       "      <td>Canada</td>\n",
       "      <td>67702</td>\n",
       "      <td>0</td>\n",
       "      <td>4693</td>\n",
       "      <td>0</td>\n",
       "      <td>31249</td>\n",
       "      <td>31760</td>\n",
       "      <td>502</td>\n",
       "      <td>1068000</td>\n",
       "    </tr>\n",
       "    <tr>\n",
       "      <th>11</th>\n",
       "      <td>Peru</td>\n",
       "      <td>65015</td>\n",
       "      <td>0</td>\n",
       "      <td>1814</td>\n",
       "      <td>0</td>\n",
       "      <td>20246</td>\n",
       "      <td>42955</td>\n",
       "      <td>748</td>\n",
       "      <td>494250</td>\n",
       "    </tr>\n",
       "    <tr>\n",
       "      <th>12</th>\n",
       "      <td>India</td>\n",
       "      <td>62939</td>\n",
       "      <td>131</td>\n",
       "      <td>2109</td>\n",
       "      <td>8</td>\n",
       "      <td>19358</td>\n",
       "      <td>41472</td>\n",
       "      <td>0</td>\n",
       "      <td>1609037</td>\n",
       "    </tr>\n",
       "    <tr>\n",
       "      <th>13</th>\n",
       "      <td>Belgium</td>\n",
       "      <td>53081</td>\n",
       "      <td>485</td>\n",
       "      <td>8656</td>\n",
       "      <td>75</td>\n",
       "      <td>13642</td>\n",
       "      <td>30783</td>\n",
       "      <td>476</td>\n",
       "      <td>566101</td>\n",
       "    </tr>\n",
       "    <tr>\n",
       "      <th>14</th>\n",
       "      <td>Netherlands</td>\n",
       "      <td>42627</td>\n",
       "      <td>245</td>\n",
       "      <td>5440</td>\n",
       "      <td>18</td>\n",
       "      <td>0</td>\n",
       "      <td>36937</td>\n",
       "      <td>541</td>\n",
       "      <td>249655</td>\n",
       "    </tr>\n",
       "    <tr>\n",
       "      <th>15</th>\n",
       "      <td>Saudi Arabia</td>\n",
       "      <td>37136</td>\n",
       "      <td>0</td>\n",
       "      <td>239</td>\n",
       "      <td>0</td>\n",
       "      <td>10144</td>\n",
       "      <td>26753</td>\n",
       "      <td>140</td>\n",
       "      <td>433500</td>\n",
       "    </tr>\n",
       "    <tr>\n",
       "      <th>16</th>\n",
       "      <td>Mexico</td>\n",
       "      <td>33460</td>\n",
       "      <td>1938</td>\n",
       "      <td>3353</td>\n",
       "      <td>193</td>\n",
       "      <td>21824</td>\n",
       "      <td>8283</td>\n",
       "      <td>378</td>\n",
       "      <td>128148</td>\n",
       "    </tr>\n",
       "    <tr>\n",
       "      <th>17</th>\n",
       "      <td>Switzerland</td>\n",
       "      <td>30305</td>\n",
       "      <td>54</td>\n",
       "      <td>1830</td>\n",
       "      <td>0</td>\n",
       "      <td>26400</td>\n",
       "      <td>2075</td>\n",
       "      <td>101</td>\n",
       "      <td>309595</td>\n",
       "    </tr>\n",
       "    <tr>\n",
       "      <th>18</th>\n",
       "      <td>Pakistan</td>\n",
       "      <td>29465</td>\n",
       "      <td>729</td>\n",
       "      <td>639</td>\n",
       "      <td>3</td>\n",
       "      <td>8023</td>\n",
       "      <td>20803</td>\n",
       "      <td>111</td>\n",
       "      <td>283517</td>\n",
       "    </tr>\n",
       "    <tr>\n",
       "      <th>19</th>\n",
       "      <td>Ecuador</td>\n",
       "      <td>29071</td>\n",
       "      <td>0</td>\n",
       "      <td>1717</td>\n",
       "      <td>0</td>\n",
       "      <td>3433</td>\n",
       "      <td>23921</td>\n",
       "      <td>181</td>\n",
       "      <td>83657</td>\n",
       "    </tr>\n",
       "  </tbody>\n",
       "</table>\n",
       "</div>"
      ],
      "text/plain": [
       "         Country  Total_Cases  New_Cases  Total_Deaths  New_Deaths  \\\n",
       "0            USA      1347411        102         80044           7   \n",
       "1          Spain       264663       1880         26621         143   \n",
       "2          Italy       218268          0         30395           0   \n",
       "3             UK       215260          0         31587           0   \n",
       "4         Russia       209688      11012          1915          88   \n",
       "5         France       176658          0         26310           0   \n",
       "6        Germany       171324          0          7549           0   \n",
       "7         Brazil       156061          0         10656           0   \n",
       "8         Turkey       137115          0          3739           0   \n",
       "9           Iran       107603       1383          6640          51   \n",
       "10        Canada        67702          0          4693           0   \n",
       "11          Peru        65015          0          1814           0   \n",
       "12         India        62939        131          2109           8   \n",
       "13       Belgium        53081        485          8656          75   \n",
       "14   Netherlands        42627        245          5440          18   \n",
       "15  Saudi Arabia        37136          0           239           0   \n",
       "16        Mexico        33460       1938          3353         193   \n",
       "17   Switzerland        30305         54          1830           0   \n",
       "18      Pakistan        29465        729           639           3   \n",
       "19       Ecuador        29071          0          1717           0   \n",
       "\n",
       "    Total_Recovered  Active_Cases  Serious_Cases  Total_Tests  \n",
       "0            238080       1029287          16816      8918345  \n",
       "1            176439         61603           1741      2467761  \n",
       "2            103031         84842           1034      2514234  \n",
       "3                 0        183329           1559      1728443  \n",
       "4             34306        173467           2300      5448463  \n",
       "5             56038         94310           2812      1384633  \n",
       "6            144400         19375           1650      2755770  \n",
       "7             61685         83720           8318       339552  \n",
       "8             89480         43896           1168      1334411  \n",
       "9             86143         14820           2675       586699  \n",
       "10            31249         31760            502      1068000  \n",
       "11            20246         42955            748       494250  \n",
       "12            19358         41472              0      1609037  \n",
       "13            13642         30783            476       566101  \n",
       "14                0         36937            541       249655  \n",
       "15            10144         26753            140       433500  \n",
       "16            21824          8283            378       128148  \n",
       "17            26400          2075            101       309595  \n",
       "18             8023         20803            111       283517  \n",
       "19             3433         23921            181        83657  "
      ]
     },
     "execution_count": 16,
     "metadata": {},
     "output_type": "execute_result"
    }
   ],
   "source": [
    "# converting into a dataframe\n",
    "df=pd.DataFrame(list(zip(country, total_cases1,new_cases1,total_deaths1,new_deaths1,total_recovered1,active_cases1,serious_cases1,total_tests1)), columns=[\"Country\",\"Total_Cases\",\"New_Cases\",\"Total_Deaths\",\"New_Deaths\",'Total_Recovered',\"Active_Cases\",\"Serious_Cases\",\"Total_Tests\"])\n",
    "df.head(20)"
   ]
  },
  {
   "cell_type": "code",
   "execution_count": 17,
   "metadata": {},
   "outputs": [
    {
     "data": {
      "text/plain": [
       "Country            object\n",
       "Total_Cases         int64\n",
       "New_Cases           int64\n",
       "Total_Deaths        int64\n",
       "New_Deaths          int64\n",
       "Total_Recovered     int64\n",
       "Active_Cases        int64\n",
       "Serious_Cases       int64\n",
       "Total_Tests         int64\n",
       "dtype: object"
      ]
     },
     "execution_count": 17,
     "metadata": {},
     "output_type": "execute_result"
    }
   ],
   "source": [
    "#checking the datatypes if all the columns are converted to int type\n",
    "df.dtypes"
   ]
  },
  {
   "cell_type": "markdown",
   "metadata": {},
   "source": [
    "## DATA ANALYSIS AND DATA VISUALIZATION"
   ]
  },
  {
   "cell_type": "markdown",
   "metadata": {},
   "source": [
    "New_Cases and New_Deaths have 0s in many of their columns so these will be dropped."
   ]
  },
  {
   "cell_type": "code",
   "execution_count": 18,
   "metadata": {},
   "outputs": [
    {
     "data": {
      "text/html": [
       "<div>\n",
       "<style scoped>\n",
       "    .dataframe tbody tr th:only-of-type {\n",
       "        vertical-align: middle;\n",
       "    }\n",
       "\n",
       "    .dataframe tbody tr th {\n",
       "        vertical-align: top;\n",
       "    }\n",
       "\n",
       "    .dataframe thead th {\n",
       "        text-align: right;\n",
       "    }\n",
       "</style>\n",
       "<table border=\"1\" class=\"dataframe\">\n",
       "  <thead>\n",
       "    <tr style=\"text-align: right;\">\n",
       "      <th></th>\n",
       "      <th>count</th>\n",
       "      <th>mean</th>\n",
       "      <th>std</th>\n",
       "      <th>min</th>\n",
       "      <th>25%</th>\n",
       "      <th>50%</th>\n",
       "      <th>75%</th>\n",
       "      <th>max</th>\n",
       "    </tr>\n",
       "  </thead>\n",
       "  <tbody>\n",
       "    <tr>\n",
       "      <th>Total_Cases</th>\n",
       "      <td>221.0</td>\n",
       "      <td>37345.149321</td>\n",
       "      <td>180942.171750</td>\n",
       "      <td>1.0</td>\n",
       "      <td>110.0</td>\n",
       "      <td>780.0</td>\n",
       "      <td>6941.0</td>\n",
       "      <td>1622171.0</td>\n",
       "    </tr>\n",
       "    <tr>\n",
       "      <th>New_Cases</th>\n",
       "      <td>221.0</td>\n",
       "      <td>256.570136</td>\n",
       "      <td>1467.232438</td>\n",
       "      <td>0.0</td>\n",
       "      <td>0.0</td>\n",
       "      <td>0.0</td>\n",
       "      <td>14.0</td>\n",
       "      <td>16333.0</td>\n",
       "    </tr>\n",
       "    <tr>\n",
       "      <th>Total_Deaths</th>\n",
       "      <td>221.0</td>\n",
       "      <td>2542.751131</td>\n",
       "      <td>13573.877037</td>\n",
       "      <td>0.0</td>\n",
       "      <td>2.0</td>\n",
       "      <td>17.0</td>\n",
       "      <td>161.0</td>\n",
       "      <td>152156.0</td>\n",
       "    </tr>\n",
       "    <tr>\n",
       "      <th>New_Deaths</th>\n",
       "      <td>221.0</td>\n",
       "      <td>6.787330</td>\n",
       "      <td>35.653828</td>\n",
       "      <td>0.0</td>\n",
       "      <td>0.0</td>\n",
       "      <td>0.0</td>\n",
       "      <td>0.0</td>\n",
       "      <td>391.0</td>\n",
       "    </tr>\n",
       "    <tr>\n",
       "      <th>Total_Recovered</th>\n",
       "      <td>221.0</td>\n",
       "      <td>13149.122172</td>\n",
       "      <td>59492.413573</td>\n",
       "      <td>0.0</td>\n",
       "      <td>32.0</td>\n",
       "      <td>298.0</td>\n",
       "      <td>2499.0</td>\n",
       "      <td>655461.0</td>\n",
       "    </tr>\n",
       "    <tr>\n",
       "      <th>Active_Cases</th>\n",
       "      <td>221.0</td>\n",
       "      <td>21650.588235</td>\n",
       "      <td>116968.810685</td>\n",
       "      <td>0.0</td>\n",
       "      <td>28.0</td>\n",
       "      <td>316.0</td>\n",
       "      <td>2783.0</td>\n",
       "      <td>1084451.0</td>\n",
       "    </tr>\n",
       "    <tr>\n",
       "      <th>Serious_Cases</th>\n",
       "      <td>221.0</td>\n",
       "      <td>430.524887</td>\n",
       "      <td>2129.256395</td>\n",
       "      <td>0.0</td>\n",
       "      <td>0.0</td>\n",
       "      <td>3.0</td>\n",
       "      <td>28.0</td>\n",
       "      <td>17985.0</td>\n",
       "    </tr>\n",
       "    <tr>\n",
       "      <th>Total_Tests</th>\n",
       "      <td>221.0</td>\n",
       "      <td>212607.601810</td>\n",
       "      <td>787579.138168</td>\n",
       "      <td>0.0</td>\n",
       "      <td>724.0</td>\n",
       "      <td>12312.0</td>\n",
       "      <td>127769.0</td>\n",
       "      <td>8918345.0</td>\n",
       "    </tr>\n",
       "  </tbody>\n",
       "</table>\n",
       "</div>"
      ],
      "text/plain": [
       "                 count           mean            std  min    25%      50%  \\\n",
       "Total_Cases      221.0   37345.149321  180942.171750  1.0  110.0    780.0   \n",
       "New_Cases        221.0     256.570136    1467.232438  0.0    0.0      0.0   \n",
       "Total_Deaths     221.0    2542.751131   13573.877037  0.0    2.0     17.0   \n",
       "New_Deaths       221.0       6.787330      35.653828  0.0    0.0      0.0   \n",
       "Total_Recovered  221.0   13149.122172   59492.413573  0.0   32.0    298.0   \n",
       "Active_Cases     221.0   21650.588235  116968.810685  0.0   28.0    316.0   \n",
       "Serious_Cases    221.0     430.524887    2129.256395  0.0    0.0      3.0   \n",
       "Total_Tests      221.0  212607.601810  787579.138168  0.0  724.0  12312.0   \n",
       "\n",
       "                      75%        max  \n",
       "Total_Cases        6941.0  1622171.0  \n",
       "New_Cases            14.0    16333.0  \n",
       "Total_Deaths        161.0   152156.0  \n",
       "New_Deaths            0.0      391.0  \n",
       "Total_Recovered    2499.0   655461.0  \n",
       "Active_Cases       2783.0  1084451.0  \n",
       "Serious_Cases        28.0    17985.0  \n",
       "Total_Tests      127769.0  8918345.0  "
      ]
     },
     "execution_count": 18,
     "metadata": {},
     "output_type": "execute_result"
    }
   ],
   "source": [
    "df.describe().T"
   ]
  },
  {
   "cell_type": "code",
   "execution_count": 19,
   "metadata": {},
   "outputs": [
    {
     "data": {
      "text/plain": [
       "Country            0\n",
       "Total_Cases        0\n",
       "New_Cases          0\n",
       "Total_Deaths       0\n",
       "New_Deaths         0\n",
       "Total_Recovered    0\n",
       "Active_Cases       0\n",
       "Serious_Cases      0\n",
       "Total_Tests        0\n",
       "dtype: int64"
      ]
     },
     "execution_count": 19,
     "metadata": {},
     "output_type": "execute_result"
    }
   ],
   "source": [
    "df.isnull().sum()"
   ]
  },
  {
   "cell_type": "markdown",
   "metadata": {},
   "source": [
    "It means that we don't have any columns with null values as all have been now replaced with 0s."
   ]
  },
  {
   "cell_type": "code",
   "execution_count": 20,
   "metadata": {},
   "outputs": [
    {
     "data": {
      "text/plain": [
       "Index(['Country', 'Total_Cases', 'New_Cases', 'Total_Deaths', 'New_Deaths',\n",
       "       'Total_Recovered', 'Active_Cases', 'Serious_Cases', 'Total_Tests'],\n",
       "      dtype='object')"
      ]
     },
     "execution_count": 20,
     "metadata": {},
     "output_type": "execute_result"
    }
   ],
   "source": [
    "df.columns"
   ]
  },
  {
   "cell_type": "code",
   "execution_count": 21,
   "metadata": {},
   "outputs": [],
   "source": [
    "# Since New_Deaths and New_Cases have many zeroes, these 2 columns are dropped from the dataset.\n",
    "df = pd.DataFrame(df) \n",
    "df.drop(['New_Deaths','New_Cases'], axis=1, inplace = True)"
   ]
  },
  {
   "cell_type": "code",
   "execution_count": 22,
   "metadata": {},
   "outputs": [
    {
     "data": {
      "text/html": [
       "<div>\n",
       "<style scoped>\n",
       "    .dataframe tbody tr th:only-of-type {\n",
       "        vertical-align: middle;\n",
       "    }\n",
       "\n",
       "    .dataframe tbody tr th {\n",
       "        vertical-align: top;\n",
       "    }\n",
       "\n",
       "    .dataframe thead th {\n",
       "        text-align: right;\n",
       "    }\n",
       "</style>\n",
       "<table border=\"1\" class=\"dataframe\">\n",
       "  <thead>\n",
       "    <tr style=\"text-align: right;\">\n",
       "      <th></th>\n",
       "      <th>Country</th>\n",
       "      <th>Total_Cases</th>\n",
       "      <th>Total_Deaths</th>\n",
       "      <th>Total_Recovered</th>\n",
       "      <th>Active_Cases</th>\n",
       "      <th>Serious_Cases</th>\n",
       "      <th>Total_Tests</th>\n",
       "    </tr>\n",
       "  </thead>\n",
       "  <tbody>\n",
       "    <tr>\n",
       "      <th>0</th>\n",
       "      <td>USA</td>\n",
       "      <td>1347411</td>\n",
       "      <td>80044</td>\n",
       "      <td>238080</td>\n",
       "      <td>1029287</td>\n",
       "      <td>16816</td>\n",
       "      <td>8918345</td>\n",
       "    </tr>\n",
       "    <tr>\n",
       "      <th>1</th>\n",
       "      <td>Spain</td>\n",
       "      <td>264663</td>\n",
       "      <td>26621</td>\n",
       "      <td>176439</td>\n",
       "      <td>61603</td>\n",
       "      <td>1741</td>\n",
       "      <td>2467761</td>\n",
       "    </tr>\n",
       "    <tr>\n",
       "      <th>2</th>\n",
       "      <td>Italy</td>\n",
       "      <td>218268</td>\n",
       "      <td>30395</td>\n",
       "      <td>103031</td>\n",
       "      <td>84842</td>\n",
       "      <td>1034</td>\n",
       "      <td>2514234</td>\n",
       "    </tr>\n",
       "    <tr>\n",
       "      <th>3</th>\n",
       "      <td>UK</td>\n",
       "      <td>215260</td>\n",
       "      <td>31587</td>\n",
       "      <td>0</td>\n",
       "      <td>183329</td>\n",
       "      <td>1559</td>\n",
       "      <td>1728443</td>\n",
       "    </tr>\n",
       "    <tr>\n",
       "      <th>4</th>\n",
       "      <td>Russia</td>\n",
       "      <td>209688</td>\n",
       "      <td>1915</td>\n",
       "      <td>34306</td>\n",
       "      <td>173467</td>\n",
       "      <td>2300</td>\n",
       "      <td>5448463</td>\n",
       "    </tr>\n",
       "    <tr>\n",
       "      <th>5</th>\n",
       "      <td>France</td>\n",
       "      <td>176658</td>\n",
       "      <td>26310</td>\n",
       "      <td>56038</td>\n",
       "      <td>94310</td>\n",
       "      <td>2812</td>\n",
       "      <td>1384633</td>\n",
       "    </tr>\n",
       "    <tr>\n",
       "      <th>6</th>\n",
       "      <td>Germany</td>\n",
       "      <td>171324</td>\n",
       "      <td>7549</td>\n",
       "      <td>144400</td>\n",
       "      <td>19375</td>\n",
       "      <td>1650</td>\n",
       "      <td>2755770</td>\n",
       "    </tr>\n",
       "    <tr>\n",
       "      <th>7</th>\n",
       "      <td>Brazil</td>\n",
       "      <td>156061</td>\n",
       "      <td>10656</td>\n",
       "      <td>61685</td>\n",
       "      <td>83720</td>\n",
       "      <td>8318</td>\n",
       "      <td>339552</td>\n",
       "    </tr>\n",
       "    <tr>\n",
       "      <th>8</th>\n",
       "      <td>Turkey</td>\n",
       "      <td>137115</td>\n",
       "      <td>3739</td>\n",
       "      <td>89480</td>\n",
       "      <td>43896</td>\n",
       "      <td>1168</td>\n",
       "      <td>1334411</td>\n",
       "    </tr>\n",
       "    <tr>\n",
       "      <th>9</th>\n",
       "      <td>Iran</td>\n",
       "      <td>107603</td>\n",
       "      <td>6640</td>\n",
       "      <td>86143</td>\n",
       "      <td>14820</td>\n",
       "      <td>2675</td>\n",
       "      <td>586699</td>\n",
       "    </tr>\n",
       "  </tbody>\n",
       "</table>\n",
       "</div>"
      ],
      "text/plain": [
       "   Country  Total_Cases  Total_Deaths  Total_Recovered  Active_Cases  \\\n",
       "0      USA      1347411         80044           238080       1029287   \n",
       "1    Spain       264663         26621           176439         61603   \n",
       "2    Italy       218268         30395           103031         84842   \n",
       "3       UK       215260         31587                0        183329   \n",
       "4   Russia       209688          1915            34306        173467   \n",
       "5   France       176658         26310            56038         94310   \n",
       "6  Germany       171324          7549           144400         19375   \n",
       "7   Brazil       156061         10656            61685         83720   \n",
       "8   Turkey       137115          3739            89480         43896   \n",
       "9     Iran       107603          6640            86143         14820   \n",
       "\n",
       "   Serious_Cases  Total_Tests  \n",
       "0          16816      8918345  \n",
       "1           1741      2467761  \n",
       "2           1034      2514234  \n",
       "3           1559      1728443  \n",
       "4           2300      5448463  \n",
       "5           2812      1384633  \n",
       "6           1650      2755770  \n",
       "7           8318       339552  \n",
       "8           1168      1334411  \n",
       "9           2675       586699  "
      ]
     },
     "execution_count": 22,
     "metadata": {},
     "output_type": "execute_result"
    }
   ],
   "source": [
    "df.head(10)"
   ]
  },
  {
   "cell_type": "code",
   "execution_count": 23,
   "metadata": {},
   "outputs": [
    {
     "data": {
      "text/plain": [
       "<seaborn.axisgrid.FacetGrid at 0x16281f5d6c8>"
      ]
     },
     "execution_count": 23,
     "metadata": {},
     "output_type": "execute_result"
    },
    {
     "data": {
      "image/png": "[encoded data removed]",
      "text/plain": [
       "<Figure size 504x504 with 1 Axes>"
      ]
     },
     "metadata": {
      "needs_background": "light"
     },
     "output_type": "display_data"
    }
   ],
   "source": [
    "# Look how the relationship between Total_cases and Total_recovered looks like, For most of the cases, with increase in total_cases, \n",
    "#Total_recovered is also increasing except for few cases.\n",
    "sns.relplot(x =\"Total_Cases\", y=\"Total_Recovered\", kind='line', data=df, height = 7)"
   ]
  },
  {
   "cell_type": "code",
   "execution_count": 24,
   "metadata": {},
   "outputs": [
    {
     "data": {
      "text/plain": [
       "<seaborn.axisgrid.FacetGrid at 0x16281f5ca48>"
      ]
     },
     "execution_count": 24,
     "metadata": {},
     "output_type": "execute_result"
    },
    {
     "data": {
      "image/png": "[encoded data removed]",
      "text/plain": [
       "<Figure size 504x504 with 1 Axes>"
      ]
     },
     "metadata": {
      "needs_background": "light"
     },
     "output_type": "display_data"
    }
   ],
   "source": [
    "# How the relationship between Total_cases and Total_deaths looks like, For most of the cases, with increase in total_cases, \n",
    "#Total_deaths is also increasing except for few cases.\n",
    "sns.relplot(x =\"Total_Cases\", y=\"Total_Deaths\", kind='line', data=df, height =7)"
   ]
  },
  {
   "cell_type": "code",
   "execution_count": 25,
   "metadata": {},
   "outputs": [
    {
     "data": {
      "text/plain": [
       "<seaborn.axisgrid.PairGrid at 0x1628396ea88>"
      ]
     },
     "execution_count": 25,
     "metadata": {},
     "output_type": "execute_result"
    },
    {
     "data": {
      "image/png": "[encoded data removed]",
      "text/plain": [
       "<Figure size 900x900 with 30 Axes>"
      ]
     },
     "metadata": {
      "needs_background": "light"
     },
     "output_type": "display_data"
    }
   ],
   "source": [
    "#sns.pairplot(df)\n",
    "sns.pairplot(df.iloc[:,1:6])"
   ]
  },
  {
   "cell_type": "code",
   "execution_count": 26,
   "metadata": {},
   "outputs": [
    {
     "data": {
      "text/html": [
       "<div>\n",
       "<style scoped>\n",
       "    .dataframe tbody tr th:only-of-type {\n",
       "        vertical-align: middle;\n",
       "    }\n",
       "\n",
       "    .dataframe tbody tr th {\n",
       "        vertical-align: top;\n",
       "    }\n",
       "\n",
       "    .dataframe thead th {\n",
       "        text-align: right;\n",
       "    }\n",
       "</style>\n",
       "<table border=\"1\" class=\"dataframe\">\n",
       "  <thead>\n",
       "    <tr style=\"text-align: right;\">\n",
       "      <th></th>\n",
       "      <th>Total_Cases</th>\n",
       "      <th>Total_Deaths</th>\n",
       "      <th>Total_Recovered</th>\n",
       "      <th>Active_Cases</th>\n",
       "      <th>Serious_Cases</th>\n",
       "      <th>Total_Tests</th>\n",
       "    </tr>\n",
       "  </thead>\n",
       "  <tbody>\n",
       "    <tr>\n",
       "      <th>Total_Cases</th>\n",
       "      <td>1.000000</td>\n",
       "      <td>0.955268</td>\n",
       "      <td>0.908108</td>\n",
       "      <td>0.974178</td>\n",
       "      <td>0.935550</td>\n",
       "      <td>0.460102</td>\n",
       "    </tr>\n",
       "    <tr>\n",
       "      <th>Total_Deaths</th>\n",
       "      <td>0.955268</td>\n",
       "      <td>1.000000</td>\n",
       "      <td>0.905221</td>\n",
       "      <td>0.901241</td>\n",
       "      <td>0.862082</td>\n",
       "      <td>0.379473</td>\n",
       "    </tr>\n",
       "    <tr>\n",
       "      <th>Total_Recovered</th>\n",
       "      <td>0.908108</td>\n",
       "      <td>0.905221</td>\n",
       "      <td>1.000000</td>\n",
       "      <td>0.791115</td>\n",
       "      <td>0.795834</td>\n",
       "      <td>0.311743</td>\n",
       "    </tr>\n",
       "    <tr>\n",
       "      <th>Active_Cases</th>\n",
       "      <td>0.974178</td>\n",
       "      <td>0.901241</td>\n",
       "      <td>0.791115</td>\n",
       "      <td>1.000000</td>\n",
       "      <td>0.942403</td>\n",
       "      <td>0.509124</td>\n",
       "    </tr>\n",
       "    <tr>\n",
       "      <th>Serious_Cases</th>\n",
       "      <td>0.935550</td>\n",
       "      <td>0.862082</td>\n",
       "      <td>0.795834</td>\n",
       "      <td>0.942403</td>\n",
       "      <td>1.000000</td>\n",
       "      <td>0.457055</td>\n",
       "    </tr>\n",
       "    <tr>\n",
       "      <th>Total_Tests</th>\n",
       "      <td>0.460102</td>\n",
       "      <td>0.379473</td>\n",
       "      <td>0.311743</td>\n",
       "      <td>0.509124</td>\n",
       "      <td>0.457055</td>\n",
       "      <td>1.000000</td>\n",
       "    </tr>\n",
       "  </tbody>\n",
       "</table>\n",
       "</div>"
      ],
      "text/plain": [
       "                 Total_Cases  Total_Deaths  Total_Recovered  Active_Cases  \\\n",
       "Total_Cases         1.000000      0.955268         0.908108      0.974178   \n",
       "Total_Deaths        0.955268      1.000000         0.905221      0.901241   \n",
       "Total_Recovered     0.908108      0.905221         1.000000      0.791115   \n",
       "Active_Cases        0.974178      0.901241         0.791115      1.000000   \n",
       "Serious_Cases       0.935550      0.862082         0.795834      0.942403   \n",
       "Total_Tests         0.460102      0.379473         0.311743      0.509124   \n",
       "\n",
       "                 Serious_Cases  Total_Tests  \n",
       "Total_Cases           0.935550     0.460102  \n",
       "Total_Deaths          0.862082     0.379473  \n",
       "Total_Recovered       0.795834     0.311743  \n",
       "Active_Cases          0.942403     0.509124  \n",
       "Serious_Cases         1.000000     0.457055  \n",
       "Total_Tests           0.457055     1.000000  "
      ]
     },
     "execution_count": 26,
     "metadata": {},
     "output_type": "execute_result"
    }
   ],
   "source": [
    "#Find the correlation between different variables\n",
    "df.corr()"
   ]
  },
  {
   "cell_type": "code",
   "execution_count": 27,
   "metadata": {},
   "outputs": [
    {
     "data": {
      "text/plain": [
       "<matplotlib.axes._subplots.AxesSubplot at 0x162855c6408>"
      ]
     },
     "execution_count": 27,
     "metadata": {},
     "output_type": "execute_result"
    },
    {
     "data": {
      "image/png": "[encoded data removed]",
      "text/plain": [
       "<Figure size 1440x1440 with 2 Axes>"
      ]
     },
     "metadata": {
      "needs_background": "light"
     },
     "output_type": "display_data"
    }
   ],
   "source": [
    "#Get the heatmap for all the variables\n",
    "plt.figure(figsize=(20,20))  \n",
    "sns.heatmap(df.corr(), annot=True, fmt='.0%')"
   ]
  },
  {
   "cell_type": "markdown",
   "metadata": {},
   "source": [
    "# INDIAN DATA"
   ]
  },
  {
   "cell_type": "code",
   "execution_count": 28,
   "metadata": {},
   "outputs": [],
   "source": [
    "url1=\"https://www.mohfw.gov.in/\""
   ]
  },
  {
   "cell_type": "code",
   "execution_count": 29,
   "metadata": {},
   "outputs": [
    {
     "name": "stdout",
     "output_type": "stream",
     "text": [
      "<Response [200]>\n"
     ]
    }
   ],
   "source": [
    "# make a GET request to fetch the raw HTML content\n",
    "response1=requests.get(url1)\n",
    "print(response1)"
   ]
  },
  {
   "cell_type": "code",
   "execution_count": 30,
   "metadata": {},
   "outputs": [],
   "source": [
    "# parse the html content\n",
    "soup1=BeautifulSoup(response1.content, \"html.parser\")"
   ]
  },
  {
   "cell_type": "code",
   "execution_count": 31,
   "metadata": {},
   "outputs": [
    {
     "data": {
      "text/plain": [
       "<title>MoHFW | Home</title>"
      ]
     },
     "execution_count": 31,
     "metadata": {},
     "output_type": "execute_result"
    }
   ],
   "source": [
    "# just checking the title to confirm we are on the right page\n",
    "soup1.title"
   ]
  },
  {
   "cell_type": "code",
   "execution_count": 32,
   "metadata": {},
   "outputs": [],
   "source": [
    "# Extract clean contents and remove any newlines and extra spaces from left and right\n",
    "clean_contents = lambda row: [x.text.replace('\\n', '') for x in row]"
   ]
  },
  {
   "cell_type": "code",
   "execution_count": 33,
   "metadata": {},
   "outputs": [
    {
     "name": "stdout",
     "output_type": "stream",
     "text": [
      "[['1', 'Andaman and Nicobar Islands', '33', '33', '0'], ['2', 'Andhra Pradesh', '1930', '887', '44'], ['3', 'Arunachal Pradesh', '1', '1', '0'], ['4', 'Assam', '63', '34', '2'], ['5', 'Bihar', '591', '322', '5'], ['6', 'Chandigarh', '169', '24', '2'], ['7', 'Chhattisgarh', '59', '43', '0'], ['8', 'Dadar Nagar Haveli', '1', '0', '0'], ['9', 'Delhi', '6542', '2020', '73'], ['10', 'Goa', '7', '7', '0'], ['11', 'Gujarat', '7796', '2091', '472'], ['12', 'Haryana', '675', '290', '9'], ['13', 'Himachal Pradesh', '50', '38', '2'], ['14', 'Jammu and Kashmir', '836', '368', '9'], ['15', 'Jharkhand', '156', '78', '3'], ['16', 'Karnataka', '794', '386', '30'], ['17', 'Kerala', '505', '485', '4'], ['18', 'Ladakh', '42', '17', '0'], ['19', 'Madhya Pradesh', '3614', '1676', '215'], ['20', 'Maharashtra', '20228', '3800', '779'], ['21', 'Manipur', '2', '2', '0'], ['22', 'Meghalaya', '13', '10', '1'], ['23', 'Mizoram', '1', '1', '0'], ['24', 'Odisha', '294', '63', '2'], ['25', 'Puducherry', '9', '6', '0'], ['26', 'Punjab', '1762', '157', '31'], ['27', 'Rajasthan', '3708', '2026', '106'], ['28', 'Tamil Nadu', '6535', '1824', '44'], ['29', 'Telengana', '1163', '750', '30'], ['30', 'Tripura', '134', '2', '0'], ['31', 'Uttarakhand', '67', '46', '1'], ['32', 'Uttar Pradesh', '3373', '1499', '74'], ['33', 'West Bengal', '1786', '372', '171']]\n"
     ]
    }
   ],
   "source": [
    "# find all table rows and data cells within\n",
    "stats = [] \n",
    "all_rows = soup1.find_all('tr')\n",
    "for row in all_rows:\n",
    "    stat = clean_contents(row.find_all('td')) \n",
    "    # notice that the data that we require is now a list of length 5\n",
    "    if len(stat) == 5:\n",
    "        stats.append(stat)\n",
    "print(stats)"
   ]
  },
  {
   "cell_type": "code",
   "execution_count": 34,
   "metadata": {},
   "outputs": [
    {
     "data": {
      "text/html": [
       "<div>\n",
       "<style scoped>\n",
       "    .dataframe tbody tr th:only-of-type {\n",
       "        vertical-align: middle;\n",
       "    }\n",
       "\n",
       "    .dataframe tbody tr th {\n",
       "        vertical-align: top;\n",
       "    }\n",
       "\n",
       "    .dataframe thead th {\n",
       "        text-align: right;\n",
       "    }\n",
       "</style>\n",
       "<table border=\"1\" class=\"dataframe\">\n",
       "  <thead>\n",
       "    <tr style=\"text-align: right;\">\n",
       "      <th></th>\n",
       "      <th>Sr.No</th>\n",
       "      <th>States/UT</th>\n",
       "      <th>Confirmed</th>\n",
       "      <th>Recovered</th>\n",
       "      <th>Deceased</th>\n",
       "    </tr>\n",
       "  </thead>\n",
       "  <tbody>\n",
       "    <tr>\n",
       "      <th>0</th>\n",
       "      <td>1</td>\n",
       "      <td>Andaman and Nicobar Islands</td>\n",
       "      <td>33</td>\n",
       "      <td>33</td>\n",
       "      <td>0</td>\n",
       "    </tr>\n",
       "    <tr>\n",
       "      <th>1</th>\n",
       "      <td>2</td>\n",
       "      <td>Andhra Pradesh</td>\n",
       "      <td>1930</td>\n",
       "      <td>887</td>\n",
       "      <td>44</td>\n",
       "    </tr>\n",
       "    <tr>\n",
       "      <th>2</th>\n",
       "      <td>3</td>\n",
       "      <td>Arunachal Pradesh</td>\n",
       "      <td>1</td>\n",
       "      <td>1</td>\n",
       "      <td>0</td>\n",
       "    </tr>\n",
       "    <tr>\n",
       "      <th>3</th>\n",
       "      <td>4</td>\n",
       "      <td>Assam</td>\n",
       "      <td>63</td>\n",
       "      <td>34</td>\n",
       "      <td>2</td>\n",
       "    </tr>\n",
       "    <tr>\n",
       "      <th>4</th>\n",
       "      <td>5</td>\n",
       "      <td>Bihar</td>\n",
       "      <td>591</td>\n",
       "      <td>322</td>\n",
       "      <td>5</td>\n",
       "    </tr>\n",
       "  </tbody>\n",
       "</table>\n",
       "</div>"
      ],
      "text/plain": [
       "  Sr.No                    States/UT Confirmed Recovered Deceased\n",
       "0     1  Andaman and Nicobar Islands        33        33        0\n",
       "1     2               Andhra Pradesh      1930       887       44\n",
       "2     3            Arunachal Pradesh         1         1        0\n",
       "3     4                        Assam        63        34        2\n",
       "4     5                        Bihar       591       322        5"
      ]
     },
     "execution_count": 34,
     "metadata": {},
     "output_type": "execute_result"
    }
   ],
   "source": [
    "#now we will convert the data into a pandas dataframe so that further processing can be done\n",
    "new_cols = [\"Sr.No\", \"States/UT\",\"Confirmed\",\"Recovered\",\"Deceased\"]\n",
    "state_data = pd.DataFrame(data = stats, columns = new_cols)\n",
    "state_data.head()"
   ]
  },
  {
   "cell_type": "code",
   "execution_count": 35,
   "metadata": {},
   "outputs": [
    {
     "name": "stdout",
     "output_type": "stream",
     "text": [
      "   Sr.No                    States/UT Confirmed Recovered Deceased\n",
      "0      1  Andaman and Nicobar Islands        33        33        0\n",
      "1      2               Andhra Pradesh      1930       887       44\n",
      "2      3            Arunachal Pradesh         1         1        0\n",
      "3      4                        Assam        63        34        2\n",
      "4      5                        Bihar       591       322        5\n",
      "5      6                   Chandigarh       169        24        2\n",
      "6      7                 Chhattisgarh        59        43        0\n",
      "7      8           Dadar Nagar Haveli         1         0        0\n",
      "8      9                        Delhi      6542      2020       73\n",
      "9     10                          Goa         7         7        0\n",
      "10    11                      Gujarat      7796      2091      472\n",
      "11    12                      Haryana       675       290        9\n",
      "12    13             Himachal Pradesh        50        38        2\n",
      "13    14            Jammu and Kashmir       836       368        9\n",
      "14    15                    Jharkhand       156        78        3\n",
      "15    16                    Karnataka       794       386       30\n",
      "16    17                       Kerala       505       485        4\n",
      "17    18                       Ladakh        42        17        0\n",
      "18    19               Madhya Pradesh      3614      1676      215\n",
      "19    20                  Maharashtra     20228      3800      779\n",
      "20    21                      Manipur         2         2        0\n",
      "21    22                    Meghalaya        13        10        1\n",
      "22    23                      Mizoram         1         1        0\n",
      "23    24                       Odisha       294        63        2\n",
      "24    25                   Puducherry         9         6        0\n",
      "25    26                       Punjab      1762       157       31\n",
      "26    27                    Rajasthan      3708      2026      106\n",
      "27    28                   Tamil Nadu      6535      1824       44\n",
      "28    29                    Telengana      1163       750       30\n",
      "29    30                      Tripura       134         2        0\n",
      "30    31                  Uttarakhand        67        46        1\n",
      "31    32                Uttar Pradesh      3373      1499       74\n",
      "32    33                  West Bengal      1786       372      171\n"
     ]
    }
   ],
   "source": [
    "# Print state_data to see if all the columns are correct and if any null values, nan or missing values are there.\n",
    "print(state_data)"
   ]
  },
  {
   "cell_type": "code",
   "execution_count": 36,
   "metadata": {},
   "outputs": [
    {
     "data": {
      "text/plain": [
       "Sr.No        object\n",
       "States/UT    object\n",
       "Confirmed    object\n",
       "Recovered    object\n",
       "Deceased     object\n",
       "dtype: object"
      ]
     },
     "execution_count": 36,
     "metadata": {},
     "output_type": "execute_result"
    }
   ],
   "source": [
    "#check the datatyes of the columns\n",
    "state_data.dtypes"
   ]
  },
  {
   "cell_type": "code",
   "execution_count": 37,
   "metadata": {},
   "outputs": [
    {
     "data": {
      "text/plain": [
       "Sr.No        object\n",
       "States/UT    object\n",
       "Confirmed     int64\n",
       "Recovered     int64\n",
       "Deceased      int64\n",
       "dtype: object"
      ]
     },
     "execution_count": 37,
     "metadata": {},
     "output_type": "execute_result"
    }
   ],
   "source": [
    "# Before we proceed further, we can see that the state_data has scraped data columns of ‘string’ datatype. \n",
    "# We have to convert them into ‘int’ datatype.\n",
    "state_data['Confirmed'] = state_data['Confirmed'].map(int)\n",
    "state_data['Recovered'] = state_data['Recovered'].map(int)\n",
    "state_data['Deceased'] =  state_data['Deceased'].map(int)\n",
    "\n",
    "state_data.dtypes"
   ]
  },
  {
   "cell_type": "code",
   "execution_count": 38,
   "metadata": {},
   "outputs": [
    {
     "data": {
      "text/plain": [
       "Sr.No        0\n",
       "States/UT    0\n",
       "Confirmed    0\n",
       "Recovered    0\n",
       "Deceased     0\n",
       "dtype: int64"
      ]
     },
     "execution_count": 38,
     "metadata": {},
     "output_type": "execute_result"
    }
   ],
   "source": [
    "#check if any nulls are there\n",
    "state_data.isnull().sum()"
   ]
  },
  {
   "cell_type": "code",
   "execution_count": 39,
   "metadata": {},
   "outputs": [
    {
     "name": "stdout",
     "output_type": "stream",
     "text": [
      "<class 'pandas.core.frame.DataFrame'>\n",
      "RangeIndex: 33 entries, 0 to 32\n",
      "Data columns (total 5 columns):\n",
      "Sr.No        33 non-null object\n",
      "States/UT    33 non-null object\n",
      "Confirmed    33 non-null int64\n",
      "Recovered    33 non-null int64\n",
      "Deceased     33 non-null int64\n",
      "dtypes: int64(3), object(2)\n",
      "memory usage: 1.4+ KB\n"
     ]
    }
   ],
   "source": [
    "state_data.info()"
   ]
  },
  {
   "cell_type": "code",
   "execution_count": 40,
   "metadata": {},
   "outputs": [],
   "source": [
    "#dropping Sr.No column as it is just a serial number\n",
    "state_data = state_data.drop(['Sr.No'],axis=1)"
   ]
  },
  {
   "cell_type": "code",
   "execution_count": 41,
   "metadata": {},
   "outputs": [
    {
     "name": "stdout",
     "output_type": "stream",
     "text": [
      "                      States/UT  Confirmed  Recovered  Deceased\n",
      "0   Andaman and Nicobar Islands         33         33         0\n",
      "1                Andhra Pradesh       1930        887        44\n",
      "2             Arunachal Pradesh          1          1         0\n",
      "3                         Assam         63         34         2\n",
      "4                         Bihar        591        322         5\n",
      "5                    Chandigarh        169         24         2\n",
      "6                  Chhattisgarh         59         43         0\n",
      "7            Dadar Nagar Haveli          1          0         0\n",
      "8                         Delhi       6542       2020        73\n",
      "9                           Goa          7          7         0\n",
      "10                      Gujarat       7796       2091       472\n",
      "11                      Haryana        675        290         9\n",
      "12             Himachal Pradesh         50         38         2\n",
      "13            Jammu and Kashmir        836        368         9\n",
      "14                    Jharkhand        156         78         3\n",
      "15                    Karnataka        794        386        30\n",
      "16                       Kerala        505        485         4\n",
      "17                       Ladakh         42         17         0\n",
      "18               Madhya Pradesh       3614       1676       215\n",
      "19                  Maharashtra      20228       3800       779\n",
      "20                      Manipur          2          2         0\n",
      "21                    Meghalaya         13         10         1\n",
      "22                      Mizoram          1          1         0\n",
      "23                       Odisha        294         63         2\n",
      "24                   Puducherry          9          6         0\n",
      "25                       Punjab       1762        157        31\n",
      "26                    Rajasthan       3708       2026       106\n",
      "27                   Tamil Nadu       6535       1824        44\n",
      "28                    Telengana       1163        750        30\n",
      "29                      Tripura        134          2         0\n",
      "30                  Uttarakhand         67         46         1\n",
      "31                Uttar Pradesh       3373       1499        74\n",
      "32                  West Bengal       1786        372       171\n"
     ]
    }
   ],
   "source": [
    "print(state_data)"
   ]
  },
  {
   "cell_type": "code",
   "execution_count": 42,
   "metadata": {},
   "outputs": [
    {
     "data": {
      "text/html": [
       "<div>\n",
       "<style scoped>\n",
       "    .dataframe tbody tr th:only-of-type {\n",
       "        vertical-align: middle;\n",
       "    }\n",
       "\n",
       "    .dataframe tbody tr th {\n",
       "        vertical-align: top;\n",
       "    }\n",
       "\n",
       "    .dataframe thead th {\n",
       "        text-align: right;\n",
       "    }\n",
       "</style>\n",
       "<table border=\"1\" class=\"dataframe\">\n",
       "  <thead>\n",
       "    <tr style=\"text-align: right;\">\n",
       "      <th></th>\n",
       "      <th>States/UT</th>\n",
       "      <th>Confirmed</th>\n",
       "      <th>Recovered</th>\n",
       "      <th>Deceased</th>\n",
       "    </tr>\n",
       "  </thead>\n",
       "  <tbody>\n",
       "    <tr>\n",
       "      <th>0</th>\n",
       "      <td>Andaman and Nicobar Islands</td>\n",
       "      <td>33</td>\n",
       "      <td>33</td>\n",
       "      <td>0</td>\n",
       "    </tr>\n",
       "    <tr>\n",
       "      <th>1</th>\n",
       "      <td>Andhra Pradesh</td>\n",
       "      <td>1930</td>\n",
       "      <td>887</td>\n",
       "      <td>44</td>\n",
       "    </tr>\n",
       "    <tr>\n",
       "      <th>2</th>\n",
       "      <td>Arunachal Pradesh</td>\n",
       "      <td>1</td>\n",
       "      <td>1</td>\n",
       "      <td>0</td>\n",
       "    </tr>\n",
       "    <tr>\n",
       "      <th>3</th>\n",
       "      <td>Assam</td>\n",
       "      <td>63</td>\n",
       "      <td>34</td>\n",
       "      <td>2</td>\n",
       "    </tr>\n",
       "    <tr>\n",
       "      <th>4</th>\n",
       "      <td>Bihar</td>\n",
       "      <td>591</td>\n",
       "      <td>322</td>\n",
       "      <td>5</td>\n",
       "    </tr>\n",
       "  </tbody>\n",
       "</table>\n",
       "</div>"
      ],
      "text/plain": [
       "                     States/UT  Confirmed  Recovered  Deceased\n",
       "0  Andaman and Nicobar Islands         33         33         0\n",
       "1               Andhra Pradesh       1930        887        44\n",
       "2            Arunachal Pradesh          1          1         0\n",
       "3                        Assam         63         34         2\n",
       "4                        Bihar        591        322         5"
      ]
     },
     "execution_count": 42,
     "metadata": {},
     "output_type": "execute_result"
    }
   ],
   "source": [
    "#Here we have only 3 columns and all values are significant, hence we are not dropping any columns\n",
    "state_data.head()"
   ]
  },
  {
   "cell_type": "markdown",
   "metadata": {},
   "source": [
    "## DATA ANALYSIS AND DATA VISUALIZATION"
   ]
  },
  {
   "cell_type": "code",
   "execution_count": 43,
   "metadata": {},
   "outputs": [
    {
     "data": {
      "text/html": [
       "<div>\n",
       "<style scoped>\n",
       "    .dataframe tbody tr th:only-of-type {\n",
       "        vertical-align: middle;\n",
       "    }\n",
       "\n",
       "    .dataframe tbody tr th {\n",
       "        vertical-align: top;\n",
       "    }\n",
       "\n",
       "    .dataframe thead th {\n",
       "        text-align: right;\n",
       "    }\n",
       "</style>\n",
       "<table border=\"1\" class=\"dataframe\">\n",
       "  <thead>\n",
       "    <tr style=\"text-align: right;\">\n",
       "      <th></th>\n",
       "      <th>count</th>\n",
       "      <th>mean</th>\n",
       "      <th>std</th>\n",
       "      <th>min</th>\n",
       "      <th>25%</th>\n",
       "      <th>50%</th>\n",
       "      <th>75%</th>\n",
       "      <th>max</th>\n",
       "    </tr>\n",
       "  </thead>\n",
       "  <tbody>\n",
       "    <tr>\n",
       "      <th>Confirmed</th>\n",
       "      <td>33.0</td>\n",
       "      <td>1907.242424</td>\n",
       "      <td>3903.272289</td>\n",
       "      <td>1.0</td>\n",
       "      <td>42.0</td>\n",
       "      <td>294.0</td>\n",
       "      <td>1786.0</td>\n",
       "      <td>20228.0</td>\n",
       "    </tr>\n",
       "    <tr>\n",
       "      <th>Recovered</th>\n",
       "      <td>33.0</td>\n",
       "      <td>586.606061</td>\n",
       "      <td>905.940255</td>\n",
       "      <td>0.0</td>\n",
       "      <td>17.0</td>\n",
       "      <td>78.0</td>\n",
       "      <td>750.0</td>\n",
       "      <td>3800.0</td>\n",
       "    </tr>\n",
       "    <tr>\n",
       "      <th>Deceased</th>\n",
       "      <td>33.0</td>\n",
       "      <td>63.909091</td>\n",
       "      <td>158.035867</td>\n",
       "      <td>0.0</td>\n",
       "      <td>0.0</td>\n",
       "      <td>3.0</td>\n",
       "      <td>44.0</td>\n",
       "      <td>779.0</td>\n",
       "    </tr>\n",
       "  </tbody>\n",
       "</table>\n",
       "</div>"
      ],
      "text/plain": [
       "           count         mean          std  min   25%    50%     75%      max\n",
       "Confirmed   33.0  1907.242424  3903.272289  1.0  42.0  294.0  1786.0  20228.0\n",
       "Recovered   33.0   586.606061   905.940255  0.0  17.0   78.0   750.0   3800.0\n",
       "Deceased    33.0    63.909091   158.035867  0.0   0.0    3.0    44.0    779.0"
      ]
     },
     "execution_count": 43,
     "metadata": {},
     "output_type": "execute_result"
    }
   ],
   "source": [
    "state_data.describe().T"
   ]
  },
  {
   "cell_type": "code",
   "execution_count": 44,
   "metadata": {},
   "outputs": [
    {
     "data": {
      "text/plain": [
       "<seaborn.axisgrid.FacetGrid at 0x16285cac548>"
      ]
     },
     "execution_count": 44,
     "metadata": {},
     "output_type": "execute_result"
    },
    {
     "data": {
      "image/png": "[encoded data removed]",
      "text/plain": [
       "<Figure size 504x504 with 1 Axes>"
      ]
     },
     "metadata": {
      "needs_background": "light"
     },
     "output_type": "display_data"
    }
   ],
   "source": [
    "# Look how the relationship between Confirmed cases and Recovered cases look, For most of the cases, with increase in confirmed\n",
    "#cases, Recovered cases is also increasing except for few cases.\n",
    "sns.relplot(x =\"Confirmed\", y=\"Recovered\", kind='line', data=state_data, height =7)"
   ]
  },
  {
   "cell_type": "code",
   "execution_count": 45,
   "metadata": {},
   "outputs": [
    {
     "data": {
      "text/plain": [
       "<seaborn.axisgrid.FacetGrid at 0x16285cf8e48>"
      ]
     },
     "execution_count": 45,
     "metadata": {},
     "output_type": "execute_result"
    },
    {
     "data": {
      "image/png": "[encoded data removed]",
      "text/plain": [
       "<Figure size 504x504 with 1 Axes>"
      ]
     },
     "metadata": {
      "needs_background": "light"
     },
     "output_type": "display_data"
    }
   ],
   "source": [
    "# The relationship between Confirmed and Deceased, For most of the cases, Deceased cases increases with increase in \n",
    "#confirmed cases but for some , there is a decrease in deaths in the initial stages. \n",
    "sns.relplot(x =\"Confirmed\", y=\"Deceased\", kind='line', data=state_data, height = 7)"
   ]
  },
  {
   "cell_type": "code",
   "execution_count": 46,
   "metadata": {},
   "outputs": [
    {
     "data": {
      "text/plain": [
       "<seaborn.axisgrid.FacetGrid at 0x16285d92c88>"
      ]
     },
     "execution_count": 46,
     "metadata": {},
     "output_type": "execute_result"
    },
    {
     "data": {
      "image/png": "[encoded data removed]",
      "text/plain": [
       "<Figure size 504x504 with 1 Axes>"
      ]
     },
     "metadata": {
      "needs_background": "light"
     },
     "output_type": "display_data"
    }
   ],
   "source": [
    "# The relationship between Recovered and Deceased, For most of the cases, Deceased cases steadily increases with increase in \n",
    "#Recovered cases but for some , there is a decrease in deaths in the initial stages (between 1200 to 1500).\n",
    "sns.relplot(x =\"Recovered\", y=\"Deceased\", kind='line', data=state_data, height = 7)"
   ]
  },
  {
   "cell_type": "code",
   "execution_count": 47,
   "metadata": {},
   "outputs": [
    {
     "data": {
      "text/plain": [
       "<seaborn.axisgrid.PairGrid at 0x16285c93088>"
      ]
     },
     "execution_count": 47,
     "metadata": {},
     "output_type": "execute_result"
    },
    {
     "data": {
      "image/png": "[encoded data removed]",
      "text/plain": [
       "<Figure size 1008x1008 with 6 Axes>"
      ]
     },
     "metadata": {
      "needs_background": "light"
     },
     "output_type": "display_data"
    }
   ],
   "source": [
    "sns.pairplot(state_data.iloc[:,0:3],height=7)"
   ]
  },
  {
   "cell_type": "code",
   "execution_count": 48,
   "metadata": {},
   "outputs": [
    {
     "data": {
      "text/html": [
       "<div>\n",
       "<style scoped>\n",
       "    .dataframe tbody tr th:only-of-type {\n",
       "        vertical-align: middle;\n",
       "    }\n",
       "\n",
       "    .dataframe tbody tr th {\n",
       "        vertical-align: top;\n",
       "    }\n",
       "\n",
       "    .dataframe thead th {\n",
       "        text-align: right;\n",
       "    }\n",
       "</style>\n",
       "<table border=\"1\" class=\"dataframe\">\n",
       "  <thead>\n",
       "    <tr style=\"text-align: right;\">\n",
       "      <th></th>\n",
       "      <th>Confirmed</th>\n",
       "      <th>Recovered</th>\n",
       "      <th>Deceased</th>\n",
       "    </tr>\n",
       "  </thead>\n",
       "  <tbody>\n",
       "    <tr>\n",
       "      <th>Confirmed</th>\n",
       "      <td>1.000000</td>\n",
       "      <td>0.926372</td>\n",
       "      <td>0.918145</td>\n",
       "    </tr>\n",
       "    <tr>\n",
       "      <th>Recovered</th>\n",
       "      <td>0.926372</td>\n",
       "      <td>1.000000</td>\n",
       "      <td>0.824059</td>\n",
       "    </tr>\n",
       "    <tr>\n",
       "      <th>Deceased</th>\n",
       "      <td>0.918145</td>\n",
       "      <td>0.824059</td>\n",
       "      <td>1.000000</td>\n",
       "    </tr>\n",
       "  </tbody>\n",
       "</table>\n",
       "</div>"
      ],
      "text/plain": [
       "           Confirmed  Recovered  Deceased\n",
       "Confirmed   1.000000   0.926372  0.918145\n",
       "Recovered   0.926372   1.000000  0.824059\n",
       "Deceased    0.918145   0.824059  1.000000"
      ]
     },
     "execution_count": 48,
     "metadata": {},
     "output_type": "execute_result"
    }
   ],
   "source": [
    "#Correlation between different variables\n",
    "state_data.corr()"
   ]
  },
  {
   "cell_type": "code",
   "execution_count": 49,
   "metadata": {},
   "outputs": [
    {
     "data": {
      "text/plain": [
       "<matplotlib.axes._subplots.AxesSubplot at 0x16285fd2688>"
      ]
     },
     "execution_count": 49,
     "metadata": {},
     "output_type": "execute_result"
    },
    {
     "data": {
      "image/png": "[encoded data removed]",
      "text/plain": [
       "<Figure size 720x720 with 2 Axes>"
      ]
     },
     "metadata": {
      "needs_background": "light"
     },
     "output_type": "display_data"
    }
   ],
   "source": [
    "#heatmap between different varialbes to know the correlation between them\n",
    "plt.figure(figsize=(10,10))  \n",
    "sns.heatmap(state_data.corr(), annot=True, fmt='.0%')"
   ]
  },
  {
   "cell_type": "code",
   "execution_count": 50,
   "metadata": {},
   "outputs": [
    {
     "data": {
      "image/png": "[encoded data removed]",
      "text/plain": [
       "<Figure size 1080x720 with 1 Axes>"
      ]
     },
     "metadata": {
      "needs_background": "light"
     },
     "output_type": "display_data"
    }
   ],
   "source": [
    "#Bar chart of all the variables\n",
    "state_data.plot.bar(figsize=(15,10),title=\"Number of Confirmed cases, Recovered and Deceased Nationwide\");"
   ]
  },
  {
   "cell_type": "code",
   "execution_count": 51,
   "metadata": {},
   "outputs": [
    {
     "data": {
      "image/png": "[encoded data removed]",
      "text/plain": [
       "<Figure size 1080x720 with 1 Axes>"
      ]
     },
     "metadata": {
      "needs_background": "light"
     },
     "output_type": "display_data"
    }
   ],
   "source": [
    "# bar chart showing number of confirmed cases per state\n",
    "state_data.plot.bar(x=\"States/UT\", y=\"Confirmed\", figsize=(15,10), title=\"Number of Confirmed cases per State\");\n",
    "\n",
    "plt.show(block=True);"
   ]
  },
  {
   "cell_type": "code",
   "execution_count": 52,
   "metadata": {},
   "outputs": [
    {
     "data": {
      "image/png": "[encoded data removed]",
      "text/plain": [
       "<Figure size 1080x720 with 1 Axes>"
      ]
     },
     "metadata": {
      "needs_background": "light"
     },
     "output_type": "display_data"
    }
   ],
   "source": [
    "#Bar chart showing number of diseased cases per state\n",
    "state_data.plot.bar(x=\"States/UT\", y=\"Deceased\", figsize=(15,10),title=\"Number of Diseased cases per State\");\n",
    "\n",
    "plt.show(block=True);"
   ]
  },
  {
   "cell_type": "code",
   "execution_count": 53,
   "metadata": {},
   "outputs": [
    {
     "data": {
      "image/png": "[encoded data removed]",
      "text/plain": [
       "<Figure size 1080x720 with 1 Axes>"
      ]
     },
     "metadata": {
      "needs_background": "light"
     },
     "output_type": "display_data"
    }
   ],
   "source": [
    "#Bar chart showing number of recovered cases per state\n",
    "state_data.plot.bar(x=\"States/UT\", y=\"Recovered\", figsize=(15,10),title=\"Number of Recovered cases per State\");\n",
    "\n",
    "plt.show(block=True);"
   ]
  },
  {
   "cell_type": "code",
   "execution_count": 54,
   "metadata": {},
   "outputs": [],
   "source": [
    "# Now we will use a different data set from Kaggle "
   ]
  }
 ],
 "metadata": {
  "kernelspec": {
   "display_name": "Python 3",
   "language": "python",
   "name": "python3"
  },
  "language_info": {
   "codemirror_mode": {
    "name": "ipython",
    "version": 3
   },
   "file_extension": ".py",
   "mimetype": "text/x-python",
   "name": "python",
   "nbconvert_exporter": "python",
   "pygments_lexer": "ipython3",
   "version": "3.7.4"
  }
 },
 "nbformat": 4,
 "nbformat_minor": 2
}
